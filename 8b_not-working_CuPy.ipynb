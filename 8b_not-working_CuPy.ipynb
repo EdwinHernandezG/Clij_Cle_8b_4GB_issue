{
 "cells": [
  {
   "cell_type": "markdown",
   "metadata": {},
   "source": [
    "This is an experimentally generated python script. Not all commands are supposed to be executable yet.\n",
    "If you want to give it a try, create conda environment named te_oki:\n",
    "  `conda create --name te_oki` \n",
    "activate the environment: \n",
    "  `conda activate te_oki` \n",
    "install dependencies: \n",
    "  `pip install pyopencl napari ipython matplotlib numpy pyclesperanto_prototype scikit-image` \n",
    "Also make sure conda is part of the PATH variable.\n",
    "\n",
    "If you want to run it from Fiji and you're using a different conda environment, you can configure it in Fijis main menu \n",
    "Plugins > ImageJ on GPU (CLIJx-Assistant) > Options >Conda configuration (Te Oki) \n",
    "Furthermore, activate the scripting language Te Oki in Fijis script editor to run this script."
   ]
  },
  {
   "cell_type": "code",
   "execution_count": null,
   "metadata": {},
   "outputs": [],
   "source": [
    "# Stay tuned and check out http://clesperanto.net to learn more."
   ]
  },
  {
   "cell_type": "code",
   "execution_count": null,
   "metadata": {},
   "outputs": [],
   "source": [
    "# Generator version: 0.6.1.2"
   ]
  },
  {
   "cell_type": "code",
   "execution_count": 1,
   "metadata": {},
   "outputs": [
    {
     "name": "stderr",
     "output_type": "stream",
     "text": [
      "C:\\Users\\Linux\\.conda\\envs\\te_oki\\lib\\site-packages\\pyclesperanto_prototype\\_tier0\\_pycl.py:30: UserWarning: Data type double is not supported by your GPU. Will use float instead.\n",
      "  warnings.warn(\"Data type double is not supported by your GPU. Will use float instead.\")\n"
     ]
    }
   ],
   "source": [
    "import pyclesperanto_prototype as cle\n",
    "from tifffile import imread"
   ]
  },
  {
   "cell_type": "code",
   "execution_count": 2,
   "metadata": {},
   "outputs": [],
   "source": [
    "import numpy as np\n",
    "import napari\n",
    "from napari.utils import nbscreenshot\n",
    "viewer = napari.Viewer()\n",
    "napari.run()"
   ]
  },
  {
   "cell_type": "code",
   "execution_count": 3,
   "metadata": {},
   "outputs": [
    {
     "name": "stdout",
     "output_type": "stream",
     "text": [
      "Available OpenCL devices:['NVIDIA Quadro RTX 8000', 'Quadro RTX 8000', 'Microsoft Basic Render Driver']\n"
     ]
    }
   ],
   "source": [
    "# list names of all available OpenCL-devices\n",
    "print(\"Available OpenCL devices:\" + str(cle.available_device_names()))"
   ]
  },
  {
   "cell_type": "code",
   "execution_count": 4,
   "metadata": {},
   "outputs": [
    {
     "name": "stdout",
     "output_type": "stream",
     "text": [
      "Used GPU:  <Quadro RTX 8000 on Platform: NVIDIA CUDA (1 refs)>\n"
     ]
    }
   ],
   "source": [
    "# initialize GPU\n",
    "device = cle.select_device(\"Quadro RTX 8000\")\n",
    "print(\"Used GPU: \", device)"
   ]
  },
  {
   "cell_type": "code",
   "execution_count": 5,
   "metadata": {},
   "outputs": [
    {
     "name": "stderr",
     "output_type": "stream",
     "text": [
      "C:\\Users\\Linux\\.conda\\envs\\te_oki\\lib\\enum.py:179: RuntimeWarning: coroutine 'get_msg' was never awaited\n",
      "  for k, v in c.__dict__.items()\n",
      "RuntimeWarning: Enable tracemalloc to get the object allocation traceback\n"
     ]
    }
   ],
   "source": [
    "\n",
    "# Load image\n",
    "image = imread(r\"D:\\Chad\\Genitals Mesh Analysis Dec 21\\XX\\3875_PCW67\\test8b.ome.tiff\")\n",
    "\n",
    "# Push test to GPU memory\n",
    "image_1 = cle.push(image)\n"
   ]
  },
  {
   "cell_type": "markdown",
   "metadata": {},
   "source": [
    "## Copy"
   ]
  },
  {
   "cell_type": "code",
   "execution_count": 6,
   "metadata": {},
   "outputs": [
    {
     "name": "stderr",
     "output_type": "stream",
     "text": [
      "C:\\Users\\Linux\\.conda\\envs\\te_oki\\lib\\site-packages\\pytools\\py_codegen.py:65: RuntimeWarning: coroutine 'get_msg' was never awaited\n",
      "  def get_picklable_function(self):\n",
      "RuntimeWarning: Enable tracemalloc to get the object allocation traceback\n"
     ]
    },
    {
     "ename": "RuntimeError",
     "evalue": "clEnqueueReadBuffer failed: OUT_OF_RESOURCES",
     "output_type": "error",
     "traceback": [
      "\u001b[1;31m---------------------------------------------------------------------------\u001b[0m",
      "\u001b[1;31mRuntimeError\u001b[0m                              Traceback (most recent call last)",
      "Input \u001b[1;32mIn [6]\u001b[0m, in \u001b[0;36m<module>\u001b[1;34m\u001b[0m\n\u001b[0;32m      3\u001b[0m cle\u001b[38;5;241m.\u001b[39mcopy(image_1, image_2)\n\u001b[0;32m      4\u001b[0m \u001b[38;5;66;03m# show result\u001b[39;00m\n\u001b[1;32m----> 5\u001b[0m image2 \u001b[38;5;241m=\u001b[39m \u001b[43mnp\u001b[49m\u001b[38;5;241;43m.\u001b[39;49m\u001b[43masarray\u001b[49m\u001b[43m(\u001b[49m\u001b[43mimage_2\u001b[49m\u001b[43m)\u001b[49m\n\u001b[0;32m      6\u001b[0m viewer\u001b[38;5;241m.\u001b[39madd_image(image2, name\u001b[38;5;241m=\u001b[39m\u001b[38;5;124m'\u001b[39m\u001b[38;5;124mimage2\u001b[39m\u001b[38;5;124m'\u001b[39m)\n",
      "File \u001b[1;32m~\\.conda\\envs\\te_oki\\lib\\site-packages\\pyclesperanto_prototype\\_tier0\\_pycl.py:111\u001b[0m, in \u001b[0;36mOCLArray.__array__\u001b[1;34m(self, dtype)\u001b[0m\n\u001b[0;32m    109\u001b[0m \u001b[38;5;28;01mdef\u001b[39;00m \u001b[38;5;21m__array__\u001b[39m(\u001b[38;5;28mself\u001b[39m, dtype\u001b[38;5;241m=\u001b[39m\u001b[38;5;28;01mNone\u001b[39;00m):\n\u001b[0;32m    110\u001b[0m     \u001b[38;5;28;01mif\u001b[39;00m dtype \u001b[38;5;129;01mis\u001b[39;00m \u001b[38;5;28;01mNone\u001b[39;00m:\n\u001b[1;32m--> 111\u001b[0m         \u001b[38;5;28;01mreturn\u001b[39;00m \u001b[38;5;28;43mself\u001b[39;49m\u001b[38;5;241;43m.\u001b[39;49m\u001b[43mget\u001b[49m\u001b[43m(\u001b[49m\u001b[43m)\u001b[49m\n\u001b[0;32m    112\u001b[0m     \u001b[38;5;28;01melse\u001b[39;00m:\n\u001b[0;32m    113\u001b[0m         \u001b[38;5;28;01mreturn\u001b[39;00m \u001b[38;5;28mself\u001b[39m\u001b[38;5;241m.\u001b[39mget()\u001b[38;5;241m.\u001b[39mastype(dtype)\n",
      "File \u001b[1;32m~\\.conda\\envs\\te_oki\\lib\\site-packages\\pyopencl\\array.py:812\u001b[0m, in \u001b[0;36mArray.get\u001b[1;34m(self, queue, ary, async_, **kwargs)\u001b[0m\n\u001b[0;32m    806\u001b[0m     \u001b[38;5;28;01mfrom\u001b[39;00m \u001b[38;5;21;01mwarnings\u001b[39;00m \u001b[38;5;28;01mimport\u001b[39;00m warn\n\u001b[0;32m    807\u001b[0m     warn(\u001b[38;5;124m\"\u001b[39m\u001b[38;5;124mcalling pyopencl.Array.get with `async_=True` is deprecated. \u001b[39m\u001b[38;5;124m\"\u001b[39m\n\u001b[0;32m    808\u001b[0m             \u001b[38;5;124m\"\u001b[39m\u001b[38;5;124mPlease use pyopencl.Array.get_async for asynchronous \u001b[39m\u001b[38;5;124m\"\u001b[39m\n\u001b[0;32m    809\u001b[0m             \u001b[38;5;124m\"\u001b[39m\u001b[38;5;124mdevice-to-host transfers\u001b[39m\u001b[38;5;124m\"\u001b[39m,\n\u001b[0;32m    810\u001b[0m             \u001b[38;5;167;01mDeprecationWarning\u001b[39;00m, \u001b[38;5;241m2\u001b[39m)\n\u001b[1;32m--> 812\u001b[0m ary, event1 \u001b[38;5;241m=\u001b[39m \u001b[38;5;28mself\u001b[39m\u001b[38;5;241m.\u001b[39m_get(queue\u001b[38;5;241m=\u001b[39mqueue, ary\u001b[38;5;241m=\u001b[39mary, async_\u001b[38;5;241m=\u001b[39masync_, \u001b[38;5;241m*\u001b[39m\u001b[38;5;241m*\u001b[39mkwargs)\n\u001b[0;32m    814\u001b[0m \u001b[38;5;28;01mreturn\u001b[39;00m ary\n",
      "File \u001b[1;32m~\\.conda\\envs\\te_oki\\lib\\site-packages\\pyopencl\\array.py:771\u001b[0m, in \u001b[0;36mArray._get\u001b[1;34m(self, queue, ary, async_, **kwargs)\u001b[0m\n\u001b[0;32m    765\u001b[0m     \u001b[38;5;28;01mraise\u001b[39;00m \u001b[38;5;167;01mValueError\u001b[39;00m(\u001b[38;5;124m\"\u001b[39m\u001b[38;5;124mCannot copy array to host. \u001b[39m\u001b[38;5;124m\"\u001b[39m\n\u001b[0;32m    766\u001b[0m             \u001b[38;5;124m\"\u001b[39m\u001b[38;5;124mArray has no queue. Use \u001b[39m\u001b[38;5;124m\"\u001b[39m\n\u001b[0;32m    767\u001b[0m             \u001b[38;5;124m\"\u001b[39m\u001b[38;5;124m'\u001b[39m\u001b[38;5;124mnew_array = array.with_queue(queue)\u001b[39m\u001b[38;5;124m'\u001b[39m\u001b[38;5;124m \u001b[39m\u001b[38;5;124m\"\u001b[39m\n\u001b[0;32m    768\u001b[0m             \u001b[38;5;124m\"\u001b[39m\u001b[38;5;124mto associate one.\u001b[39m\u001b[38;5;124m\"\u001b[39m)\n\u001b[0;32m    770\u001b[0m \u001b[38;5;28;01mif\u001b[39;00m \u001b[38;5;28mself\u001b[39m\u001b[38;5;241m.\u001b[39msize:\n\u001b[1;32m--> 771\u001b[0m     event1 \u001b[38;5;241m=\u001b[39m \u001b[43mcl\u001b[49m\u001b[38;5;241;43m.\u001b[39;49m\u001b[43menqueue_copy\u001b[49m\u001b[43m(\u001b[49m\u001b[43mqueue\u001b[49m\u001b[43m,\u001b[49m\u001b[43m \u001b[49m\u001b[43mary\u001b[49m\u001b[43m,\u001b[49m\u001b[43m \u001b[49m\u001b[38;5;28;43mself\u001b[39;49m\u001b[38;5;241;43m.\u001b[39;49m\u001b[43mbase_data\u001b[49m\u001b[43m,\u001b[49m\n\u001b[0;32m    772\u001b[0m \u001b[43m            \u001b[49m\u001b[43mdevice_offset\u001b[49m\u001b[38;5;241;43m=\u001b[39;49m\u001b[38;5;28;43mself\u001b[39;49m\u001b[38;5;241;43m.\u001b[39;49m\u001b[43moffset\u001b[49m\u001b[43m,\u001b[49m\n\u001b[0;32m    773\u001b[0m \u001b[43m            \u001b[49m\u001b[43mwait_for\u001b[49m\u001b[38;5;241;43m=\u001b[39;49m\u001b[38;5;28;43mself\u001b[39;49m\u001b[38;5;241;43m.\u001b[39;49m\u001b[43mevents\u001b[49m\u001b[43m,\u001b[49m\u001b[43m \u001b[49m\u001b[43mis_blocking\u001b[49m\u001b[38;5;241;43m=\u001b[39;49m\u001b[38;5;129;43;01mnot\u001b[39;49;00m\u001b[43m \u001b[49m\u001b[43masync_\u001b[49m\u001b[43m)\u001b[49m\n\u001b[0;32m    774\u001b[0m     \u001b[38;5;28mself\u001b[39m\u001b[38;5;241m.\u001b[39madd_event(event1)\n\u001b[0;32m    775\u001b[0m \u001b[38;5;28;01melse\u001b[39;00m:\n",
      "File \u001b[1;32m~\\.conda\\envs\\te_oki\\lib\\site-packages\\pyopencl\\__init__.py:1792\u001b[0m, in \u001b[0;36menqueue_copy\u001b[1;34m(queue, dest, src, **kwargs)\u001b[0m\n\u001b[0;32m   1790\u001b[0m         \u001b[38;5;28;01mreturn\u001b[39;00m _cl\u001b[38;5;241m.\u001b[39m_enqueue_read_buffer_rect(queue, src, dest, \u001b[38;5;241m*\u001b[39m\u001b[38;5;241m*\u001b[39mkwargs)\n\u001b[0;32m   1791\u001b[0m     \u001b[38;5;28;01melse\u001b[39;00m:\n\u001b[1;32m-> 1792\u001b[0m         \u001b[38;5;28;01mreturn\u001b[39;00m _cl\u001b[38;5;241m.\u001b[39m_enqueue_read_buffer(queue, src, dest, \u001b[38;5;241m*\u001b[39m\u001b[38;5;241m*\u001b[39mkwargs)\n\u001b[0;32m   1793\u001b[0m \u001b[38;5;28;01melif\u001b[39;00m src\u001b[38;5;241m.\u001b[39mtype \u001b[38;5;129;01min\u001b[39;00m [mem_object_type\u001b[38;5;241m.\u001b[39mIMAGE2D, mem_object_type\u001b[38;5;241m.\u001b[39mIMAGE3D]:\n\u001b[0;32m   1794\u001b[0m     origin \u001b[38;5;241m=\u001b[39m kwargs\u001b[38;5;241m.\u001b[39mpop(\u001b[38;5;124m\"\u001b[39m\u001b[38;5;124morigin\u001b[39m\u001b[38;5;124m\"\u001b[39m)\n",
      "\u001b[1;31mRuntimeError\u001b[0m: clEnqueueReadBuffer failed: OUT_OF_RESOURCES"
     ]
    }
   ],
   "source": [
    "\n",
    "# Copy\n",
    "image_2 = cle.create_like(image_1);\n",
    "cle.copy(image_1, image_2)\n",
    "# show result\n",
    "image2 = np.asarray(image_2)\n",
    "viewer.add_image(image2, name='image2')\n",
    "\n"
   ]
  },
  {
   "cell_type": "code",
   "execution_count": null,
   "metadata": {},
   "outputs": [],
   "source": [
    "nbscreenshot(viewer, canvas_only=True)"
   ]
  },
  {
   "cell_type": "markdown",
   "metadata": {},
   "source": [
    "## Gaussian Blur3D"
   ]
  },
  {
   "cell_type": "code",
   "execution_count": null,
   "metadata": {},
   "outputs": [],
   "source": [
    "\n",
    "# Gaussian Blur3D\n",
    "image_3 = cle.create_like(image_2);\n",
    "sigma_x = 2.0;\n",
    "sigma_y = 2.0;\n",
    "sigma_z = 2.0;\n",
    "cle.gaussian_blur(image_2, image_3, sigma_x, sigma_y, sigma_z)\n",
    "# show result\n",
    "image3 = np.asarray(image_3)\n",
    "viewer.add_image(image3, name='image3')\n"
   ]
  },
  {
   "cell_type": "code",
   "execution_count": null,
   "metadata": {},
   "outputs": [],
   "source": [
    "nbscreenshot(viewer, canvas_only=True)"
   ]
  },
  {
   "cell_type": "markdown",
   "metadata": {},
   "source": [
    "## Binary Fill Holes (Not tested)"
   ]
  },
  {
   "cell_type": "code",
   "execution_count": null,
   "metadata": {},
   "outputs": [],
   "source": [
    "\n",
    "# Binary Fill Holes\n",
    "image_4 = cle.create_like(image_3);\n",
    "cle.binary_fill_holes(image_3, image_4)\n",
    "# show result\n",
    "\n",
    "\n"
   ]
  }
 ],
 "metadata": {
  "kernelspec": {
   "display_name": "Python 3 (ipykernel)",
   "language": "python",
   "name": "python3"
  },
  "language_info": {
   "codemirror_mode": {
    "name": "ipython",
    "version": 3
   },
   "file_extension": ".py",
   "mimetype": "text/x-python",
   "name": "python",
   "nbconvert_exporter": "python",
   "pygments_lexer": "ipython3",
   "version": "3.9.0"
  }
 },
 "nbformat": 4,
 "nbformat_minor": 4
}
