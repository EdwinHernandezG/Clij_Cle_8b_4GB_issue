{
 "cells": [
  {
   "cell_type": "markdown",
   "metadata": {},
   "source": [
    "This is an experimentally generated python script. Not all commands are supposed to be executable yet.\n",
    "If you want to give it a try, create conda environment named te_oki:\n",
    "  `conda create --name te_oki` \n",
    "activate the environment: \n",
    "  `conda activate te_oki` \n",
    "install dependencies: \n",
    "  `pip install pyopencl napari ipython matplotlib numpy pyclesperanto_prototype scikit-image` \n",
    "Also make sure conda is part of the PATH variable.\n",
    "\n",
    "If you want to run it from Fiji and you're using a different conda environment, you can configure it in Fijis main menu \n",
    "Plugins > ImageJ on GPU (CLIJx-Assistant) > Options >Conda configuration (Te Oki) \n",
    "Furthermore, activate the scripting language Te Oki in Fijis script editor to run this script."
   ]
  },
  {
   "cell_type": "code",
   "execution_count": null,
   "metadata": {},
   "outputs": [],
   "source": [
    "# Stay tuned and check out http://clesperanto.net to learn more."
   ]
  },
  {
   "cell_type": "code",
   "execution_count": null,
   "metadata": {},
   "outputs": [],
   "source": [
    "# Generator version: 0.6.1.2"
   ]
  },
  {
   "cell_type": "code",
   "execution_count": 1,
   "metadata": {},
   "outputs": [
    {
     "name": "stderr",
     "output_type": "stream",
     "text": [
      "C:\\Users\\Linux\\.conda\\envs\\te_oki\\lib\\site-packages\\pyclesperanto_prototype\\_tier0\\_pycl.py:30: UserWarning: Data type double is not supported by your GPU. Will use float instead.\n",
      "  warnings.warn(\"Data type double is not supported by your GPU. Will use float instead.\")\n"
     ]
    }
   ],
   "source": [
    "import pyclesperanto_prototype as cle\n",
    "from tifffile import imread"
   ]
  },
  {
   "cell_type": "code",
   "execution_count": 2,
   "metadata": {},
   "outputs": [],
   "source": [
    "import numpy as np\n",
    "import napari\n",
    "viewer = napari.Viewer()\n",
    "napari.run()"
   ]
  },
  {
   "cell_type": "code",
   "execution_count": 3,
   "metadata": {},
   "outputs": [
    {
     "name": "stdout",
     "output_type": "stream",
     "text": [
      "Available OpenCL devices:['NVIDIA Quadro RTX 8000', 'Quadro RTX 8000', 'Microsoft Basic Render Driver']\n"
     ]
    }
   ],
   "source": [
    "# list names of all available OpenCL-devices\n",
    "print(\"Available OpenCL devices:\" + str(cle.available_device_names()))"
   ]
  },
  {
   "cell_type": "code",
   "execution_count": 4,
   "metadata": {},
   "outputs": [
    {
     "name": "stdout",
     "output_type": "stream",
     "text": [
      "Used GPU:  <Quadro RTX 8000 on Platform: NVIDIA CUDA (1 refs)>\n"
     ]
    }
   ],
   "source": [
    "# initialize GPU\n",
    "device = cle.select_device(\"Quadro RTX 8000\")\n",
    "print(\"Used GPU: \", device)"
   ]
  },
  {
   "cell_type": "code",
   "execution_count": 6,
   "metadata": {},
   "outputs": [],
   "source": [
    "\n",
    "# Load image\n",
    "image = imread(r\"D:\\Chad\\Genitals Mesh Analysis Dec 21\\XX\\3875_PCW67\\test.ome.tiff\")\n",
    "\n",
    "# Push test to GPU memory\n",
    "image_1 = cle.push(image)\n"
   ]
  },
  {
   "cell_type": "markdown",
   "metadata": {},
   "source": [
    "## Copy"
   ]
  },
  {
   "cell_type": "code",
   "execution_count": 7,
   "metadata": {},
   "outputs": [
    {
     "data": {
      "text/plain": [
       "<Image layer 'image2' at 0x24d4ca233d0>"
      ]
     },
     "execution_count": 7,
     "metadata": {},
     "output_type": "execute_result"
    }
   ],
   "source": [
    "\n",
    "# Copy\n",
    "image_2 = cle.create_like(image_1);\n",
    "cle.copy(image_1, image_2)\n",
    "# show result\n",
    "image2 = np.asarray(image_2)\n",
    "viewer.add_image(image2, name='image2')\n",
    "\n"
   ]
  },
  {
   "cell_type": "markdown",
   "metadata": {},
   "source": [
    "## Gaussian Blur3D"
   ]
  },
  {
   "cell_type": "code",
   "execution_count": null,
   "metadata": {},
   "outputs": [],
   "source": [
    "\n",
    "# Gaussian Blur3D\n",
    "image_3 = cle.create_like(image_2);\n",
    "sigma_x = 2.0;\n",
    "sigma_y = 2.0;\n",
    "sigma_z = 2.0;\n",
    "cle.gaussian_blur(image_2, image_3, sigma_x, sigma_y, sigma_z)\n",
    "# show result\n",
    "image3 = np.asarray(image_3)\n",
    "viewer.add_image(image2, name='image2')\n"
   ]
  },
  {
   "cell_type": "code",
   "execution_count": null,
   "metadata": {},
   "outputs": [],
   "source": []
  },
  {
   "cell_type": "markdown",
   "metadata": {},
   "source": [
    "## Binary Fill Holes"
   ]
  },
  {
   "cell_type": "code",
   "execution_count": null,
   "metadata": {},
   "outputs": [],
   "source": [
    "\n",
    "# Binary Fill Holes\n",
    "image_4 = cle.create_like(image_3);\n",
    "cle.binary_fill_holes(image_3, image_4)\n",
    "# show result\n",
    "plt.imshow(image_4[0])\n",
    "plt.show()\n",
    "\n"
   ]
  },
  {
   "cell_type": "code",
   "execution_count": null,
   "metadata": {},
   "outputs": [],
   "source": []
  }
 ],
 "metadata": {
  "kernelspec": {
   "display_name": "Python 3 (ipykernel)",
   "language": "python",
   "name": "python3"
  },
  "language_info": {
   "codemirror_mode": {
    "name": "ipython",
    "version": 3
   },
   "file_extension": ".py",
   "mimetype": "text/x-python",
   "name": "python",
   "nbconvert_exporter": "python",
   "pygments_lexer": "ipython3",
   "version": "3.9.0"
  }
 },
 "nbformat": 4,
 "nbformat_minor": 4
}
