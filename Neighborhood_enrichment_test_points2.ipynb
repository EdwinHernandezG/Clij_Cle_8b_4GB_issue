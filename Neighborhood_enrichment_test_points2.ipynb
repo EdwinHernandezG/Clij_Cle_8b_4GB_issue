{
 "cells": [
  {
   "cell_type": "markdown",
   "id": "cb68a32d-fd73-4698-9b59-307b134d98e5",
   "metadata": {},
   "source": [
    "# Neighborhood enrichment test on points data\n",
    "\n",
    "This tutorial explains how to conduct a neighborhood enrichment test (see [Wählby et al. (2022)](https://www.frontiersin.org/articles/10.3389/fphys.2022) for explanation) with napari-spatial-statistics. This function uses the [Squidpy](https://squidpy.readthedocs.io/en/stable/index.html) spatial statistics platform."
   ]
  },
  {
   "cell_type": "code",
   "execution_count": 1,
   "id": "960a068e-18e4-4697-a7a7-01e7ec4838fc",
   "metadata": {},
   "outputs": [],
   "source": [
    "import napari \n",
    "import napari_spatial_statistics as nss\n",
    "import matplotlib.pyplot as plt\n",
    "from napari.layers import Points, Layer\n",
    "from napari.utils.io import csv_to_layer_data as cld"
   ]
  },
  {
   "cell_type": "code",
   "execution_count": 3,
   "id": "8ab8125e-46e0-4d3e-8596-81f6ca955438",
   "metadata": {
    "tags": []
   },
   "outputs": [],
   "source": [
    "Oct4 = r\"G:\\Stardist_results\\Point\\Oct4_r.csv\"\n",
    "Sox9 = r\"G:\\Stardist_results\\Point\\Sox9_r.csv\""
   ]
  },
  {
   "cell_type": "code",
   "execution_count": 4,
   "id": "bfeead23-4068-41da-891f-5e54ab7c0c35",
   "metadata": {},
   "outputs": [],
   "source": [
    "Oct4p = cld(Oct4)\n",
    "Sox9p = cld(Sox9)"
   ]
  },
  {
   "cell_type": "code",
   "execution_count": 5,
   "id": "474b8145-2a7f-4943-a8fa-f780357154cb",
   "metadata": {},
   "outputs": [
    {
     "name": "stderr",
     "output_type": "stream",
     "text": [
      "C:\\Users\\Linux\\.conda\\envs\\napari-spatial-statistics\\lib\\site-packages\\napari_tools_menu\\__init__.py:168: FutureWarning: Public access to Window.qt_viewer is deprecated and will be removed in\n",
      "v0.5.0. It is considered an \"implementation detail\" of the napari\n",
      "application, not part of the napari viewer model. If your use case\n",
      "requires access to qt_viewer, please open an issue to discuss.\n",
      "  self.tools_menu = ToolsMenu(self, self.qt_viewer.viewer)\n",
      "C:\\Users\\Linux\\.conda\\envs\\napari-spatial-statistics\\lib\\site-packages\\numpy\\core\\numeric.py:2446: FutureWarning: elementwise comparison failed; returning scalar instead, but in the future will perform elementwise comparison\n",
      "  return bool(asarray(a1 == a2).all())\n",
      "C:\\Users\\Linux\\.conda\\envs\\napari-spatial-statistics\\lib\\site-packages\\numpy\\core\\numeric.py:2446: FutureWarning: elementwise comparison failed; returning scalar instead, but in the future will perform elementwise comparison\n",
      "  return bool(asarray(a1 == a2).all())\n",
      "C:\\Users\\Linux\\.conda\\envs\\napari-spatial-statistics\\lib\\site-packages\\numpy\\core\\numeric.py:2446: FutureWarning: elementwise comparison failed; returning scalar instead, but in the future will perform elementwise comparison\n",
      "  return bool(asarray(a1 == a2).all())\n"
     ]
    }
   ],
   "source": [
    "viewer = napari.Viewer(ndisplay=3)\n",
    "oct4_layer = viewer.add_points(Oct4p[0], **Oct4p[1])\n",
    "sox9_layer = viewer.add_points(Sox9p[0], **Sox9p[1])"
   ]
  },
  {
   "cell_type": "code",
   "execution_count": null,
   "id": "ff152166-910c-4d8b-92e8-2afc4039b8b8",
   "metadata": {},
   "outputs": [],
   "source": [
    "points = nss.merge_points_layers(viewer=viewer)"
   ]
  },
  {
   "cell_type": "code",
   "execution_count": 11,
   "id": "405720a6-23b6-48f1-af3c-d519ae0ecb97",
   "metadata": {},
   "outputs": [
    {
     "name": "stderr",
     "output_type": "stream",
     "text": [
      "C:\\Users\\Linux\\.conda\\envs\\napari-spatial-statistics\\lib\\site-packages\\numpy\\core\\numeric.py:2446: FutureWarning: elementwise comparison failed; returning scalar instead, but in the future will perform elementwise comparison\n",
      "  return bool(asarray(a1 == a2).all())\n"
     ]
    }
   ],
   "source": [
    "fused_layer = viewer.add_points(points[0], **points[1])"
   ]
  },
  {
   "cell_type": "markdown",
   "id": "b2630e33-11f9-4ef3-a34f-44df4768f860",
   "metadata": {},
   "source": [
    "This shows the created point distribution. The locations of the created points are  obviously correlated:"
   ]
  },
  {
   "cell_type": "markdown",
   "id": "c68e509e-b5d2-4773-85f5-43b0be2fc594",
   "metadata": {},
   "source": [
    "First, we need to define a neighborhood criteria between points. This will determine which set of points will be considered to be neighbors of each other - and which aren't. Napari-spatial-statistics provides a set of functions for this:\n",
    "\n",
    "* `nss.distance_ckdtree()`: Distance-based neighborhood implemented in [scipy](https://docs.scipy.org/doc/scipy/reference/generated/scipy.spatial.cKDTree.html)\n",
    "* `nss.distance_squidpy()`: Distance-based neighborhood implement in [Squidpy](https://squidpy.readthedocs.io/en/stable/auto_examples/graph/compute_spatial_neighbors.html)\n",
    "* `nss.knearest_ckdtree()`: N-nearest neighbors implemented in [scipy](https://docs.scipy.org/doc/scipy/reference/generated/scipy.spatial.cKDTree.query.html#scipy.spatial.cKDTree.query)\n",
    "\n",
    "*Note*: These functions operate on `napari.layer.Points` types, since the required point type information and the determined neighborhood information are store in `layer.properties`"
   ]
  },
  {
   "cell_type": "code",
   "execution_count": 8,
   "id": "d75f5f9c-5d23-4d72-8c42-ea3aae6d0b67",
   "metadata": {},
   "outputs": [
    {
     "name": "stderr",
     "output_type": "stream",
     "text": [
      "C:\\Users\\Linux\\.conda\\envs\\napari-spatial-statistics\\lib\\site-packages\\numpy\\core\\numeric.py:2446: FutureWarning: elementwise comparison failed; returning scalar instead, but in the future will perform elementwise comparison\n",
      "  return bool(asarray(a1 == a2).all())\n"
     ]
    }
   ],
   "source": [
    "properties = nss.distance_ckdtree(points, radius=100, viewer=viewer)  # viewer parameter is optional, but creates a table to show list of neighboring points\n",
    "#napari.utils.nbscreenshot(viewer, canvas_only=False)"
   ]
  },
  {
   "cell_type": "code",
   "execution_count": 9,
   "id": "16bfdbcf-a862-47e9-81de-162fa3b78372",
   "metadata": {},
   "outputs": [
    {
     "ename": "MemoryError",
     "evalue": "Unable to allocate 1.55 TiB for an array with shape (652806, 652806) and data type int32",
     "output_type": "error",
     "traceback": [
      "\u001b[1;31m---------------------------------------------------------------------------\u001b[0m",
      "\u001b[1;31mMemoryError\u001b[0m                               Traceback (most recent call last)",
      "Input \u001b[1;32mIn [9]\u001b[0m, in \u001b[0;36m<cell line: 2>\u001b[1;34m()\u001b[0m\n\u001b[0;32m      1\u001b[0m fig, ax \u001b[38;5;241m=\u001b[39m plt\u001b[38;5;241m.\u001b[39msubplots(figsize\u001b[38;5;241m=\u001b[39m(\u001b[38;5;241m7\u001b[39m,\u001b[38;5;241m7\u001b[39m))\n\u001b[1;32m----> 2\u001b[0m results \u001b[38;5;241m=\u001b[39m \u001b[43mnss\u001b[49m\u001b[38;5;241;43m.\u001b[39;49m\u001b[43mneighborhood_enrichment_test\u001b[49m\u001b[43m(\u001b[49m\u001b[43mpoints\u001b[49m\u001b[43m[\u001b[49m\u001b[38;5;241;43m0\u001b[39;49m\u001b[43m]\u001b[49m\u001b[43m,\u001b[49m\u001b[43m \u001b[49m\u001b[43mproperties\u001b[49m\u001b[38;5;241;43m=\u001b[39;49m\u001b[43mproperties\u001b[49m\u001b[43m,\u001b[49m\u001b[43m \u001b[49m\u001b[43mon_feature\u001b[49m\u001b[38;5;241;43m=\u001b[39;49m\u001b[38;5;124;43m'\u001b[39;49m\u001b[38;5;124;43mCell type\u001b[39;49m\u001b[38;5;124;43m'\u001b[39;49m\u001b[43m,\u001b[49m\u001b[43m \u001b[49m\u001b[43mn_permutations\u001b[49m\u001b[38;5;241;43m=\u001b[39;49m\u001b[38;5;241;43m1000\u001b[39;49m\u001b[43m,\u001b[49m\u001b[43m \u001b[49m\u001b[43max\u001b[49m\u001b[38;5;241;43m=\u001b[39;49m\u001b[43max\u001b[49m\u001b[43m)\u001b[49m\n",
      "File \u001b[1;32m~\\.conda\\envs\\napari-spatial-statistics\\lib\\site-packages\\napari_spatial_statistics\\_spatial_statistics.py:131\u001b[0m, in \u001b[0;36mneighborhood_enrichment_test\u001b[1;34m(points, properties, on_feature, n_permutations, ax)\u001b[0m\n\u001b[0;32m    128\u001b[0m \u001b[38;5;28;01mfor\u001b[39;00m idx, entry \u001b[38;5;129;01min\u001b[39;00m \u001b[38;5;28menumerate\u001b[39m(neighbors):\n\u001b[0;32m    129\u001b[0m     _neighbors[idx] \u001b[38;5;241m=\u001b[39m [\u001b[38;5;28mint\u001b[39m(i) \u001b[38;5;28;01mfor\u001b[39;00m i \u001b[38;5;129;01min\u001b[39;00m entry\u001b[38;5;241m.\u001b[39msplit(\u001b[38;5;124m'\u001b[39m\u001b[38;5;124m,\u001b[39m\u001b[38;5;124m'\u001b[39m)]\n\u001b[1;32m--> 131\u001b[0m adj_matrix \u001b[38;5;241m=\u001b[39m \u001b[43mlist_of_neighbors_to_adjacency_matrix\u001b[49m\u001b[43m(\u001b[49m\u001b[43m_neighbors\u001b[49m\u001b[43m)\u001b[49m\n\u001b[0;32m    132\u001b[0m adj_matrix \u001b[38;5;241m=\u001b[39m sparse\u001b[38;5;241m.\u001b[39mcsr_matrix(adj_matrix)\n\u001b[0;32m    134\u001b[0m adata \u001b[38;5;241m=\u001b[39m AnnData(points,\n\u001b[0;32m    135\u001b[0m                 obs \u001b[38;5;241m=\u001b[39m {on_feature: pd\u001b[38;5;241m.\u001b[39mCategorical(properties[on_feature])},\n\u001b[0;32m    136\u001b[0m                 obsp \u001b[38;5;241m=\u001b[39m {\u001b[38;5;124m'\u001b[39m\u001b[38;5;124mspatial_connectivities\u001b[39m\u001b[38;5;124m'\u001b[39m: adj_matrix},\n\u001b[0;32m    137\u001b[0m                 obsm\u001b[38;5;241m=\u001b[39m{\u001b[38;5;124m\"\u001b[39m\u001b[38;5;124mspatial3d\u001b[39m\u001b[38;5;124m\"\u001b[39m: points},\n\u001b[0;32m    138\u001b[0m                 dtype\u001b[38;5;241m=\u001b[39mpoints\u001b[38;5;241m.\u001b[39mdtype)\n",
      "File \u001b[1;32m~\\.conda\\envs\\napari-spatial-statistics\\lib\\site-packages\\napari_spatial_statistics\\_utils.py:23\u001b[0m, in \u001b[0;36mlist_of_neighbors_to_adjacency_matrix\u001b[1;34m(list_of_neighbors)\u001b[0m\n\u001b[0;32m     21\u001b[0m \u001b[38;5;28;01mdef\u001b[39;00m \u001b[38;5;21mlist_of_neighbors_to_adjacency_matrix\u001b[39m(list_of_neighbors: \u001b[38;5;28mlist\u001b[39m):\n\u001b[1;32m---> 23\u001b[0m     adj_matrix \u001b[38;5;241m=\u001b[39m \u001b[43mnp\u001b[49m\u001b[38;5;241;43m.\u001b[39;49m\u001b[43mzeros\u001b[49m\u001b[43m(\u001b[49m\u001b[43m[\u001b[49m\u001b[38;5;28;43mlen\u001b[39;49m\u001b[43m(\u001b[49m\u001b[43mlist_of_neighbors\u001b[49m\u001b[43m)\u001b[49m\u001b[43m]\u001b[49m\u001b[43m \u001b[49m\u001b[38;5;241;43m*\u001b[39;49m\u001b[43m \u001b[49m\u001b[38;5;241;43m2\u001b[39;49m\u001b[43m,\u001b[49m\u001b[43m \u001b[49m\u001b[43mdtype\u001b[49m\u001b[38;5;241;43m=\u001b[39;49m\u001b[38;5;28;43mint\u001b[39;49m\u001b[43m)\u001b[49m\n\u001b[0;32m     25\u001b[0m     \u001b[38;5;28;01mfor\u001b[39;00m k, entry \u001b[38;5;129;01min\u001b[39;00m \u001b[38;5;28menumerate\u001b[39m(list_of_neighbors):\n\u001b[0;32m     26\u001b[0m         adj_matrix[k][np\u001b[38;5;241m.\u001b[39marray(entry)] \u001b[38;5;241m=\u001b[39m \u001b[38;5;241m1\u001b[39m\n",
      "\u001b[1;31mMemoryError\u001b[0m: Unable to allocate 1.55 TiB for an array with shape (652806, 652806) and data type int32"
     ]
    },
    {
     "data": {
      "image/png": "[encoded data removed]",
      "text/plain": [
       "<Figure size 504x504 with 1 Axes>"
      ]
     },
     "metadata": {
      "needs_background": "dark"
     },
     "output_type": "display_data"
    }
   ],
   "source": [
    "fig, ax = plt.subplots(figsize=(7,7))\n",
    "results = nss.neighborhood_enrichment_test(points[0], properties=properties, on_feature='Cell type', n_permutations=1000, ax=ax)"
   ]
  },
  {
   "cell_type": "markdown",
   "id": "fd75de0c-dff6-4c15-a586-58533eab8716",
   "metadata": {},
   "source": [
    "This tells us that we are finding *a lot* of type `2` cells in the neighborhood of type `1` cells and vice versa as compared to what we would expect if the point identities were distributed randomly. We can now repeat this analysis and add more randomness to the data:"
   ]
  },
  {
   "cell_type": "markdown",
   "id": "3cc797ab-ea6f-4f11-a319-66da2faba830",
   "metadata": {},
   "source": [
    "We now see lower z-scores close to zero (note the colorbar on the right-hand site) which indicates that the presence of type `2` cells in the neighborhoood of type `1` cells (and vice versa) is close to random. You can retrieve the raw z-score values from the `results` variable with:"
   ]
  },
  {
   "cell_type": "code",
   "execution_count": null,
   "id": "e88a6400-ed59-4a70-917f-06343dd13690",
   "metadata": {},
   "outputs": [],
   "source": [
    "results['zscore']"
   ]
  },
  {
   "cell_type": "code",
   "execution_count": null,
   "id": "3ba009b1-566b-44ca-bb9b-c5746b18d7e4",
   "metadata": {},
   "outputs": [],
   "source": []
  }
 ],
 "metadata": {
  "kernelspec": {
   "display_name": "Python 3 (ipykernel)",
   "language": "python",
   "name": "python3"
  },
  "language_info": {
   "codemirror_mode": {
    "name": "ipython",
    "version": 3
   },
   "file_extension": ".py",
   "mimetype": "text/x-python",
   "name": "python",
   "nbconvert_exporter": "python",
   "pygments_lexer": "ipython3",
   "version": "3.9.12"
  }
 },
 "nbformat": 4,
 "nbformat_minor": 5
}
