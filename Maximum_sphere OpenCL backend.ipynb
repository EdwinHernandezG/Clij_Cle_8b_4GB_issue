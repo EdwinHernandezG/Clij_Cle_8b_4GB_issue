{
 "cells": [
  {
   "cell_type": "code",
   "execution_count": 1,
   "id": "6b85d547",
   "metadata": {},
   "outputs": [
    {
     "name": "stderr",
     "output_type": "stream",
     "text": [
      "C:\\Users\\Linux\\.conda\\envs\\te_oki\\lib\\site-packages\\pyclesperanto_prototype\\_tier0\\_pycl.py:30: UserWarning: Data type double is not supported by your GPU. Will use float instead.\n",
      "  warnings.warn(\"Data type double is not supported by your GPU. Will use float instead.\")\n"
     ]
    },
    {
     "name": "stdout",
     "output_type": "stream",
     "text": [
      "<NVIDIA Quadro RTX 8000 on Platform: OpenCLOn12 (1 refs)>\n"
     ]
    },
    {
     "ename": "LogicError",
     "evalue": "create_buffer failed: INVALID_BUFFER_SIZE",
     "output_type": "error",
     "traceback": [
      "\u001b[1;31m---------------------------------------------------------------------------\u001b[0m",
      "\u001b[1;31mLogicError\u001b[0m                                Traceback (most recent call last)",
      "Input \u001b[1;32mIn [1]\u001b[0m, in \u001b[0;36m<module>\u001b[1;34m\u001b[0m\n\u001b[0;32m     10\u001b[0m radius_y \u001b[38;5;241m=\u001b[39m \u001b[38;5;241m1.0\u001b[39m\n\u001b[0;32m     11\u001b[0m radius_z \u001b[38;5;241m=\u001b[39m \u001b[38;5;241m1.0\u001b[39m\n\u001b[1;32m---> 12\u001b[0m result \u001b[38;5;241m=\u001b[39m \u001b[43mcle\u001b[49m\u001b[38;5;241;43m.\u001b[39;49m\u001b[43mmaximum_sphere\u001b[49m\u001b[43m(\u001b[49m\u001b[43mimage\u001b[49m\u001b[43m,\u001b[49m\u001b[43m \u001b[49m\u001b[43mradius_x\u001b[49m\u001b[38;5;241;43m=\u001b[39;49m\u001b[43mradius_x\u001b[49m\u001b[43m,\u001b[49m\u001b[43m \u001b[49m\u001b[43mradius_y\u001b[49m\u001b[38;5;241;43m=\u001b[39;49m\u001b[43mradius_y\u001b[49m\u001b[43m,\u001b[49m\u001b[43m \u001b[49m\u001b[43mradius_z\u001b[49m\u001b[38;5;241;43m=\u001b[39;49m\u001b[43mradius_z\u001b[49m\u001b[43m)\u001b[49m\n\u001b[0;32m     14\u001b[0m cle\u001b[38;5;241m.\u001b[39mimshow(result)\n",
      "File \u001b[1;32m~\\.conda\\envs\\te_oki\\lib\\site-packages\\pyclesperanto_prototype\\_tier0\\_plugin_function.py:68\u001b[0m, in \u001b[0;36mplugin_function.<locals>.worker_function\u001b[1;34m(*args, **kwargs)\u001b[0m\n\u001b[0;32m     66\u001b[0m     \u001b[38;5;28;01mif\u001b[39;00m key \u001b[38;5;129;01min\u001b[39;00m sig\u001b[38;5;241m.\u001b[39mparameters \u001b[38;5;129;01mand\u001b[39;00m sig\u001b[38;5;241m.\u001b[39mparameters[key]\u001b[38;5;241m.\u001b[39mannotation \u001b[38;5;129;01mis\u001b[39;00m Image \u001b[38;5;129;01mand\u001b[39;00m value \u001b[38;5;129;01mis\u001b[39;00m \u001b[38;5;28;01mNone\u001b[39;00m:\n\u001b[0;32m     67\u001b[0m         sig \u001b[38;5;241m=\u001b[39m inspect\u001b[38;5;241m.\u001b[39msignature(output_creator)\n\u001b[1;32m---> 68\u001b[0m         bound\u001b[38;5;241m.\u001b[39marguments[key] \u001b[38;5;241m=\u001b[39m \u001b[43moutput_creator\u001b[49m\u001b[43m(\u001b[49m\u001b[38;5;241;43m*\u001b[39;49m\u001b[43mbound\u001b[49m\u001b[38;5;241;43m.\u001b[39;49m\u001b[43margs\u001b[49m\u001b[43m[\u001b[49m\u001b[43m:\u001b[49m\u001b[38;5;28;43mlen\u001b[39;49m\u001b[43m(\u001b[49m\u001b[43msig\u001b[49m\u001b[38;5;241;43m.\u001b[39;49m\u001b[43mparameters\u001b[49m\u001b[43m)\u001b[49m\u001b[43m]\u001b[49m\u001b[43m)\u001b[49m\n\u001b[0;32m     70\u001b[0m \u001b[38;5;66;03m# call the decorated function\u001b[39;00m\n\u001b[0;32m     71\u001b[0m \u001b[38;5;28;01mreturn\u001b[39;00m function(\u001b[38;5;241m*\u001b[39mbound\u001b[38;5;241m.\u001b[39margs, \u001b[38;5;241m*\u001b[39m\u001b[38;5;241m*\u001b[39mbound\u001b[38;5;241m.\u001b[39mkwargs)\n",
      "File \u001b[1;32m~\\.conda\\envs\\te_oki\\lib\\site-packages\\pyclesperanto_prototype\\_tier0\\_create.py:32\u001b[0m, in \u001b[0;36mcreate_like\u001b[1;34m(*args)\u001b[0m\n\u001b[0;32m     30\u001b[0m \u001b[38;5;28;01melif\u001b[39;00m \u001b[38;5;28misinstance\u001b[39m(dimensions, np\u001b[38;5;241m.\u001b[39mndarray):\n\u001b[0;32m     31\u001b[0m     dimensions \u001b[38;5;241m=\u001b[39m dimensions\u001b[38;5;241m.\u001b[39mshape[::\u001b[38;5;241m-\u001b[39m\u001b[38;5;241m1\u001b[39m]\n\u001b[1;32m---> 32\u001b[0m \u001b[38;5;28;01mreturn\u001b[39;00m \u001b[43mcreate\u001b[49m\u001b[43m(\u001b[49m\u001b[43mdimensions\u001b[49m\u001b[43m)\u001b[49m\n",
      "File \u001b[1;32m~\\.conda\\envs\\te_oki\\lib\\site-packages\\pyclesperanto_prototype\\_tier0\\_create.py:21\u001b[0m, in \u001b[0;36mcreate\u001b[1;34m(dimensions, dtype)\u001b[0m\n\u001b[0;32m      7\u001b[0m \u001b[38;5;124;03m\"\"\"\u001b[39;00m\n\u001b[0;32m      8\u001b[0m \u001b[38;5;124;03mConvenience method for creating images on the GPU. This method basically does the same as in CLIJ:\u001b[39;00m\n\u001b[0;32m      9\u001b[0m \n\u001b[1;32m   (...)\u001b[0m\n\u001b[0;32m     13\u001b[0m \u001b[38;5;124;03m:return: OCLArray, potentially with random values\u001b[39;00m\n\u001b[0;32m     14\u001b[0m \u001b[38;5;124;03m\"\"\"\u001b[39;00m\n\u001b[0;32m     16\u001b[0m dimensions \u001b[38;5;241m=\u001b[39m (\n\u001b[0;32m     17\u001b[0m     dimensions\u001b[38;5;241m.\u001b[39mshape\n\u001b[0;32m     18\u001b[0m     \u001b[38;5;28;01mif\u001b[39;00m \u001b[38;5;28misinstance\u001b[39m(dimensions, Backend\u001b[38;5;241m.\u001b[39mget_instance()\u001b[38;5;241m.\u001b[39mget()\u001b[38;5;241m.\u001b[39marray_type())\n\u001b[0;32m     19\u001b[0m     \u001b[38;5;28;01melse\u001b[39;00m \u001b[38;5;28mtuple\u001b[39m(dimensions)  \u001b[38;5;66;03m# reverses a list/tuple\u001b[39;00m\n\u001b[0;32m     20\u001b[0m )\n\u001b[1;32m---> 21\u001b[0m \u001b[38;5;28;01mreturn\u001b[39;00m \u001b[43mBackend\u001b[49m\u001b[38;5;241;43m.\u001b[39;49m\u001b[43mget_instance\u001b[49m\u001b[43m(\u001b[49m\u001b[43m)\u001b[49m\u001b[38;5;241;43m.\u001b[39;49m\u001b[43mget\u001b[49m\u001b[43m(\u001b[49m\u001b[43m)\u001b[49m\u001b[38;5;241;43m.\u001b[39;49m\u001b[43mempty\u001b[49m\u001b[43m(\u001b[49m\u001b[43mdimensions\u001b[49m\u001b[43m,\u001b[49m\u001b[43m \u001b[49m\u001b[43mdtype\u001b[49m\u001b[43m)\u001b[49m\n",
      "File \u001b[1;32m~\\.conda\\envs\\te_oki\\lib\\site-packages\\pyclesperanto_prototype\\_tier0\\_opencl_backend.py:29\u001b[0m, in \u001b[0;36mOpenCLBackend.empty\u001b[1;34m(self, shape, dtype)\u001b[0m\n\u001b[0;32m     27\u001b[0m assert_supported_ndarray_type(dtype)\n\u001b[0;32m     28\u001b[0m queue \u001b[38;5;241m=\u001b[39m get_device()\u001b[38;5;241m.\u001b[39mqueue\n\u001b[1;32m---> 29\u001b[0m \u001b[38;5;28;01mreturn\u001b[39;00m \u001b[43mOCLArray\u001b[49m\u001b[43m(\u001b[49m\u001b[43mqueue\u001b[49m\u001b[43m,\u001b[49m\u001b[43m \u001b[49m\u001b[43mshape\u001b[49m\u001b[43m,\u001b[49m\u001b[43m \u001b[49m\u001b[43mdtype\u001b[49m\u001b[43m)\u001b[49m\n",
      "File \u001b[1;32m~\\.conda\\envs\\te_oki\\lib\\site-packages\\pyopencl\\array.py:580\u001b[0m, in \u001b[0;36mArray.__init__\u001b[1;34m(***failed resolving arguments***)\u001b[0m\n\u001b[0;32m    577\u001b[0m     \u001b[38;5;28;01mif\u001b[39;00m context \u001b[38;5;129;01mis\u001b[39;00m \u001b[38;5;28;01mNone\u001b[39;00m \u001b[38;5;129;01mand\u001b[39;00m queue \u001b[38;5;129;01mis\u001b[39;00m \u001b[38;5;129;01mnot\u001b[39;00m \u001b[38;5;28;01mNone\u001b[39;00m:\n\u001b[0;32m    578\u001b[0m         context \u001b[38;5;241m=\u001b[39m queue\u001b[38;5;241m.\u001b[39mcontext\n\u001b[1;32m--> 580\u001b[0m     \u001b[38;5;28mself\u001b[39m\u001b[38;5;241m.\u001b[39mbase_data \u001b[38;5;241m=\u001b[39m \u001b[43mcl\u001b[49m\u001b[38;5;241;43m.\u001b[39;49m\u001b[43mBuffer\u001b[49m\u001b[43m(\u001b[49m\n\u001b[0;32m    581\u001b[0m \u001b[43m            \u001b[49m\u001b[43mcontext\u001b[49m\u001b[43m,\u001b[49m\u001b[43m \u001b[49m\u001b[43mcl\u001b[49m\u001b[38;5;241;43m.\u001b[39;49m\u001b[43mmem_flags\u001b[49m\u001b[38;5;241;43m.\u001b[39;49m\u001b[43mREAD_WRITE\u001b[49m\u001b[43m,\u001b[49m\u001b[43m \u001b[49m\u001b[43malloc_nbytes\u001b[49m\u001b[43m)\u001b[49m\n\u001b[0;32m    582\u001b[0m \u001b[38;5;28;01melse\u001b[39;00m:\n\u001b[0;32m    583\u001b[0m     \u001b[38;5;28mself\u001b[39m\u001b[38;5;241m.\u001b[39mbase_data \u001b[38;5;241m=\u001b[39m \u001b[38;5;28mself\u001b[39m\u001b[38;5;241m.\u001b[39mallocator(alloc_nbytes)\n",
      "\u001b[1;31mLogicError\u001b[0m: create_buffer failed: INVALID_BUFFER_SIZE"
     ]
    }
   ],
   "source": [
    "import pyclesperanto_prototype as cle\n",
    "import numpy as np\n",
    "\n",
    "device = cle.select_device(\"NVIDIA Quadro RTX 8000\")\n",
    "print(cle.get_device())\n",
    "\n",
    "image = cle.create((55, 5917, 8694), dtype=np.uint8)\n",
    "\n",
    "radius_x = 1.0\n",
    "radius_y = 1.0\n",
    "radius_z = 1.0\n",
    "result = cle.maximum_sphere(image, radius_x=radius_x, radius_y=radius_y, radius_z=radius_z)\n",
    "\n",
    "cle.imshow(result)"
   ]
  },
  {
   "cell_type": "code",
   "execution_count": null,
   "id": "dc26f680",
   "metadata": {},
   "outputs": [],
   "source": []
  }
 ],
 "metadata": {
  "kernelspec": {
   "display_name": "Python 3 (ipykernel)",
   "language": "python",
   "name": "python3"
  },
  "language_info": {
   "codemirror_mode": {
    "name": "ipython",
    "version": 3
   },
   "file_extension": ".py",
   "mimetype": "text/x-python",
   "name": "python",
   "nbconvert_exporter": "python",
   "pygments_lexer": "ipython3",
   "version": "3.9.0"
  }
 },
 "nbformat": 4,
 "nbformat_minor": 5
}
