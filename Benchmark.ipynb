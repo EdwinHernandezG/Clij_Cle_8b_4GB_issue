{
 "cells": [
  {
   "cell_type": "markdown",
   "id": "da029296-5721-4280-b5e0-04077a6b5f70",
   "metadata": {},
   "source": [
    "# Regionprops / napari_simpleitk_image_processing_label_statistics / napari_cupy_image_processing_measurements comparison\n",
    "\n",
    "Benchmark feedback for Robert Haase"
   ]
  },
  {
   "cell_type": "code",
   "execution_count": 1,
   "id": "cd0dfdcd-55d3-4aa2-a81d-46266437d5b4",
   "metadata": {},
   "outputs": [],
   "source": [
    "import numpy as np\n",
    "import zarr\n",
    "from skimage.measure import regionprops\n",
    "from skimage.util import map_array\n",
    "import warnings\n",
    "warnings.filterwarnings(\"ignore\")"
   ]
  },
  {
   "cell_type": "code",
   "execution_count": 2,
   "id": "f9340d6f-d8f0-4e85-9723-c7b173c2c044",
   "metadata": {},
   "outputs": [],
   "source": [
    "# load raw data\n",
    "\n",
    "image = zarr.load(r\"D:\\EHG\\Explants\\INSL3\\C2-EH3919_DMSOEtOH_Explant-2_5-COUPTFII_6-INSL3_7-CYP17A1-1s_12x_1z_Blaze_C0.ome_Processed.aivia_Processed.aivia.tif8.zarr\")\n",
    "\n",
    "# Load the segmented image\n",
    "\n",
    "labels = zarr.load(\"D:\\EHG\\Explants\\INSL3\\Labels\\C2-EH3919_DMSOEtOH_Explant-2_5-COUPTFII_6-INSL3_7-CYP17A1-1s_12x_1z_Blaze_C0.ome_Processed.aivia_Processed.aivia_cp_masks.tif5.zarr\")"
   ]
  },
  {
   "cell_type": "code",
   "execution_count": 3,
   "id": "d4fe9611-4690-4060-bd03-998963cc14b1",
   "metadata": {},
   "outputs": [],
   "source": [
    "import napari"
   ]
  },
  {
   "cell_type": "code",
   "execution_count": 4,
   "id": "fbc7969d-6cc8-4b45-95a4-f44a5dcdf767",
   "metadata": {},
   "outputs": [
    {
     "data": {
      "text/plain": [
       "<Labels layer 'labels' at 0x17e1b3f24f0>"
      ]
     },
     "execution_count": 4,
     "metadata": {},
     "output_type": "execute_result"
    }
   ],
   "source": [
    "viewer = napari.Viewer()\n",
    "viewer.add_image(image)\n",
    "viewer.add_labels(labels)"
   ]
  },
  {
   "cell_type": "code",
   "execution_count": null,
   "id": "fd956a3f-ed75-4c24-9e42-4b6d082b39b8",
   "metadata": {},
   "outputs": [],
   "source": [
    "import warnings\n",
    "warnings.filterwarnings(\"ignore\")"
   ]
  },
  {
   "cell_type": "code",
   "execution_count": 6,
   "id": "227943e9-f200-4aef-ac9b-5a2289f08ee2",
   "metadata": {
    "tags": []
   },
   "outputs": [
    {
     "name": "stdout",
     "output_type": "stream",
     "text": [
      "Determining label statistics using scikit-image took 70.60235977172852 s\n",
      "Determining label statistics using scikit-image took 70.53916311264038 s\n",
      "Determining label statistics using scikit-image took 70.58022141456604 s\n",
      "Determining label statistics using scikit-image took 70.64043188095093 s\n",
      "Determining label statistics using scikit-image took 70.57600235939026 s\n",
      "Determining label statistics using scikit-image took 70.51509737968445 s\n",
      "Determining label statistics using scikit-image took 70.4709005355835 s\n",
      "Determining label statistics using scikit-image took 70.33958530426025 s\n",
      "Determining label statistics using scikit-image took 70.64511060714722 s\n",
      "Determining label statistics using scikit-image took 70.47446179389954 s\n"
     ]
    }
   ],
   "source": [
    "import time\n",
    "\n",
    "for i in range(0, 10):\n",
    "    start_time = time.time()\n",
    "    \n",
    "    # get dictionary of measurements\n",
    "    props = regionprops(labels, intensity_image=image, cache=True,)\n",
    "        \n",
    "    # read out arrays of values\n",
    "    \n",
    "    area = [s.area for s in props]\n",
    "    equivalent_diameter_area = [s.equivalent_diameter_area for s in props]\n",
    "    intensity_max = [s.intensity_max for s in props]\n",
    "    intensity_mean = [s.intensity_mean for s in props]\n",
    "    intensity_min = [s.intensity_min for s in props]\n",
    "    solidity = [s.solidity for s in props]\n",
    "        \n",
    "    print(\"Determining label statistics using scikit-image took \" + str(time.time() - start_time) + \" s\")"
   ]
  },
  {
   "cell_type": "code",
   "execution_count": 7,
   "id": "b4018528-203e-4830-83ea-c60196161b7d",
   "metadata": {},
   "outputs": [
    {
     "name": "stdout",
     "output_type": "stream",
     "text": [
      "Determining label statistics using scikit-image took 17.617764472961426 s\n",
      "Determining label statistics using scikit-image took 14.623165607452393 s\n",
      "Determining label statistics using scikit-image took 15.197724342346191 s\n",
      "Determining label statistics using scikit-image took 13.88002061843872 s\n",
      "Determining label statistics using scikit-image took 13.981669187545776 s\n",
      "Determining label statistics using scikit-image took 17.017157793045044 s\n",
      "Determining label statistics using scikit-image took 14.251792430877686 s\n",
      "Determining label statistics using scikit-image took 14.655256032943726 s\n",
      "Determining label statistics using scikit-image took 14.763823747634888 s\n",
      "Determining label statistics using scikit-image took 16.188231229782104 s\n"
     ]
    }
   ],
   "source": [
    "from napari_simpleitk_image_processing import label_statistics\n",
    "import pandas as pd\n",
    "\n",
    "for i in range(0, 10):\n",
    "    start_time = time.time()\n",
    "    \n",
    "    # get dictionary of measurements\n",
    "    props = label_statistics(image, labels, None, True, True, True, True, True, True)\n",
    "        \n",
    "    # read out arrays of values\n",
    "    content = pd.DataFrame(props)\n",
    "\n",
    "    intensity_max = content['maximum']\n",
    "    intensity_mean = content['mean']\n",
    "    intensity_min = content['minimum']\n",
    "    principal_moments0 = content['principal_moments0']\n",
    "        \n",
    "    print(\"Determining label statistics using scikit-image took \" + str(time.time() - start_time) + \" s\")"
   ]
  },
  {
   "cell_type": "code",
   "execution_count": 8,
   "id": "f890bffe-4823-4972-8b5e-f80ab6635781",
   "metadata": {},
   "outputs": [
    {
     "ename": "KeyboardInterrupt",
     "evalue": "",
     "output_type": "error",
     "traceback": [
      "\u001b[1;31m---------------------------------------------------------------------------\u001b[0m",
      "\u001b[1;31mKeyboardInterrupt\u001b[0m                         Traceback (most recent call last)",
      "Input \u001b[1;32mIn [8]\u001b[0m, in \u001b[0;36m<module>\u001b[1;34m\u001b[0m\n\u001b[0;32m      5\u001b[0m start_time \u001b[38;5;241m=\u001b[39m time\u001b[38;5;241m.\u001b[39mtime()\n\u001b[0;32m      7\u001b[0m \u001b[38;5;66;03m# get dictionary of measurements\u001b[39;00m\n\u001b[1;32m----> 8\u001b[0m props \u001b[38;5;241m=\u001b[39m \u001b[43mmeasurements\u001b[49m\u001b[43m(\u001b[49m\u001b[43mimage\u001b[49m\u001b[43m,\u001b[49m\u001b[43m \u001b[49m\u001b[43mlabels\u001b[49m\u001b[43m)\u001b[49m\n\u001b[0;32m     10\u001b[0m \u001b[38;5;66;03m# read out arrays of values\u001b[39;00m\n\u001b[0;32m     11\u001b[0m content \u001b[38;5;241m=\u001b[39m pd\u001b[38;5;241m.\u001b[39mDataFrame(props)\n",
      "File \u001b[1;32m~\\.conda\\envs\\bio11\\lib\\site-packages\\napari_cupy_image_processing\\_cupy_image_processing.py:266\u001b[0m, in \u001b[0;36mmeasurements\u001b[1;34m(intensity_image, label_image, napari_viewer, size, intensity, position)\u001b[0m\n\u001b[0;32m    263\u001b[0m     _append_to_column(df, \u001b[38;5;124m\"\u001b[39m\u001b[38;5;124mstandard_deviation\u001b[39m\u001b[38;5;124m\"\u001b[39m, x\u001b[38;5;241m.\u001b[39mget())\n\u001b[0;32m    265\u001b[0m \u001b[38;5;28;01mif\u001b[39;00m size:\n\u001b[1;32m--> 266\u001b[0m     sum_labels \u001b[38;5;241m=\u001b[39m \u001b[43mndimage\u001b[49m\u001b[38;5;241;43m.\u001b[39;49m\u001b[43msum_labels\u001b[49m\u001b[43m(\u001b[49m\u001b[43mimage\u001b[49m\u001b[43m,\u001b[49m\u001b[43m \u001b[49m\u001b[43mlabels\u001b[49m\u001b[43m,\u001b[49m\u001b[43m \u001b[49m\u001b[43ml\u001b[49m\u001b[43m)\u001b[49m\u001b[38;5;241m.\u001b[39mget()\n\u001b[0;32m    267\u001b[0m     \u001b[38;5;28;01mif\u001b[39;00m mean \u001b[38;5;129;01mis\u001b[39;00m \u001b[38;5;28;01mNone\u001b[39;00m:\n\u001b[0;32m    268\u001b[0m         mean \u001b[38;5;241m=\u001b[39m ndimage\u001b[38;5;241m.\u001b[39mmean(image, labels, l)\u001b[38;5;241m.\u001b[39mget()\n",
      "File \u001b[1;32m~\\.conda\\envs\\bio11\\lib\\site-packages\\cupyx\\scipy\\ndimage\\measurements.py:418\u001b[0m, in \u001b[0;36msum_labels\u001b[1;34m(input, labels, index)\u001b[0m\n\u001b[0;32m    416\u001b[0m         \u001b[38;5;28;01mraise\u001b[39;00m \u001b[38;5;167;01mTypeError\u001b[39;00m(\u001b[38;5;124m'\u001b[39m\u001b[38;5;124mindex must be cupy.ndarray or a scalar int\u001b[39m\u001b[38;5;124m'\u001b[39m)\n\u001b[0;32m    417\u001b[0m     \u001b[38;5;28;01melse\u001b[39;00m:\n\u001b[1;32m--> 418\u001b[0m         \u001b[38;5;28;01mreturn\u001b[39;00m (\u001b[38;5;28;43minput\u001b[39;49m\u001b[43m[\u001b[49m\u001b[43mlabels\u001b[49m\u001b[43m \u001b[49m\u001b[38;5;241;43m==\u001b[39;49m\u001b[43m \u001b[49m\u001b[43mindex\u001b[49m\u001b[43m]\u001b[49m)\u001b[38;5;241m.\u001b[39msum()\n\u001b[0;32m    420\u001b[0m \u001b[38;5;28;01mif\u001b[39;00m index\u001b[38;5;241m.\u001b[39msize \u001b[38;5;241m==\u001b[39m \u001b[38;5;241m0\u001b[39m:\n\u001b[0;32m    421\u001b[0m     \u001b[38;5;28;01mreturn\u001b[39;00m cupy\u001b[38;5;241m.\u001b[39marray([], dtype\u001b[38;5;241m=\u001b[39mcupy\u001b[38;5;241m.\u001b[39mint64)\n",
      "\u001b[1;31mKeyboardInterrupt\u001b[0m: "
     ]
    }
   ],
   "source": [
    "from napari_cupy_image_processing import measurements\n",
    "\n",
    "for i in range(0, 10):\n",
    "    start_time = time.time()\n",
    "    \n",
    "    # get dictionary of measurements\n",
    "    props = measurements(image, labels)\n",
    "        \n",
    "    # read out arrays of values\n",
    "    content = pd.DataFrame(props)\n",
    "\n",
    "    max_vector = content['maximum']\n",
    "    mean_vector = content['mean']\n",
    "    min_vector = content['minimum']\n",
    "    median = content['median']\n",
    "        \n",
    "    print(\"Determining label statistics using scikit-image took \" + str(time.time() - start_time) + \" s\")"
   ]
  },
  {
   "cell_type": "code",
   "execution_count": null,
   "id": "b156cb6e-a241-4d46-879b-e9730c9c2664",
   "metadata": {},
   "outputs": [],
   "source": [
    "from napari_cupy_image_processing import measurements\n",
    "\n",
    "props = measurements(image, labels)\n",
    "content = pd.DataFrame(props)"
   ]
  },
  {
   "cell_type": "code",
   "execution_count": null,
   "id": "12a61160-6ae5-456e-bbda-83154899bc27",
   "metadata": {},
   "outputs": [],
   "source": []
  }
 ],
 "metadata": {
  "kernelspec": {
   "display_name": "Python 3 (ipykernel)",
   "language": "python",
   "name": "python3"
  },
  "language_info": {
   "codemirror_mode": {
    "name": "ipython",
    "version": 3
   },
   "file_extension": ".py",
   "mimetype": "text/x-python",
   "name": "python",
   "nbconvert_exporter": "python",
   "pygments_lexer": "ipython3",
   "version": "3.8.5"
  }
 },
 "nbformat": 4,
 "nbformat_minor": 5
}
