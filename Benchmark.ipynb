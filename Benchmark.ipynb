{
 "cells": [
  {
   "cell_type": "markdown",
   "id": "da029296-5721-4280-b5e0-04077a6b5f70",
   "metadata": {},
   "source": [
    "# Regionprops / napari_simpleitk_image_processing_label_statistics / napari_cupy_image_processing_measurements comparison\n",
    "\n",
    "Benchmark feedback for Robert Haase"
   ]
  },
  {
   "cell_type": "code",
   "execution_count": 1,
   "id": "cd0dfdcd-55d3-4aa2-a81d-46266437d5b4",
   "metadata": {},
   "outputs": [],
   "source": [
    "import numpy as np\n",
    "import zarr\n",
    "from skimage.measure import regionprops\n",
    "from skimage.util import map_array\n",
    "import warnings\n",
    "warnings.filterwarnings(\"ignore\")"
   ]
  },
  {
   "cell_type": "code",
   "execution_count": 2,
   "id": "f9340d6f-d8f0-4e85-9723-c7b173c2c044",
   "metadata": {},
   "outputs": [],
   "source": [
    "# load raw data\n",
    "\n",
    "image = zarr.load(r\"D:\\EHG\\Explants\\INSL3\\C2-EH3919_DMSOEtOH_Explant-2_5-COUPTFII_6-INSL3_7-CYP17A1-1s_12x_1z_Blaze_C0.ome_Processed.aivia_Processed.aivia.tif8.zarr\")\n",
    "\n",
    "# Load the segmented image\n",
    "\n",
    "labels = zarr.load(\"D:\\EHG\\Explants\\INSL3\\Labels\\C2-EH3919_DMSOEtOH_Explant-2_5-COUPTFII_6-INSL3_7-CYP17A1-1s_12x_1z_Blaze_C0.ome_Processed.aivia_Processed.aivia_cp_masks.tif5.zarr\")"
   ]
  },
  {
   "cell_type": "code",
   "execution_count": 3,
   "id": "d4fe9611-4690-4060-bd03-998963cc14b1",
   "metadata": {},
   "outputs": [],
   "source": [
    "import napari"
   ]
  },
  {
   "cell_type": "code",
   "execution_count": 4,
   "id": "fbc7969d-6cc8-4b45-95a4-f44a5dcdf767",
   "metadata": {},
   "outputs": [
    {
     "name": "stderr",
     "output_type": "stream",
     "text": [
      "WARNING: QWindowsWindow::setGeometry: Unable to set geometry 3440x1377+1821+421 (frame: 3456x1416+1813+390) on QWidgetWindow/\"_QtMainWindowClassWindow\" on \"\\\\.\\DISPLAY1\". Resulting geometry: 1924x1061+1821+421 (frame: 1940x1100+1813+390) margins: 8, 31, 8, 8 minimum size: 608x555 MINMAXINFO maxSize=0,0 maxpos=0,0 mintrack=624,594 maxtrack=0,0)\n"
     ]
    },
    {
     "data": {
      "text/plain": [
       "<Labels layer 'labels' at 0x11de7e74550>"
      ]
     },
     "execution_count": 4,
     "metadata": {},
     "output_type": "execute_result"
    }
   ],
   "source": [
    "viewer = napari.Viewer()\n",
    "viewer.add_image(image)\n",
    "viewer.add_labels(labels)"
   ]
  },
  {
   "cell_type": "code",
   "execution_count": 5,
   "id": "227943e9-f200-4aef-ac9b-5a2289f08ee2",
   "metadata": {
    "tags": []
   },
   "outputs": [
    {
     "name": "stdout",
     "output_type": "stream",
     "text": [
      "Determining label statistics using scikit-image took 70.56262564659119 s\n",
      "Determining label statistics using scikit-image took 70.65476083755493 s\n",
      "Determining label statistics using scikit-image took 70.50822472572327 s\n",
      "Determining label statistics using scikit-image took 70.373459815979 s\n",
      "Determining label statistics using scikit-image took 71.15718293190002 s\n",
      "Determining label statistics using scikit-image took 70.44809937477112 s\n",
      "Determining label statistics using scikit-image took 71.1853711605072 s\n",
      "Determining label statistics using scikit-image took 70.7305600643158 s\n",
      "Determining label statistics using scikit-image took 70.61283731460571 s\n",
      "Determining label statistics using scikit-image took 70.52325415611267 s\n"
     ]
    }
   ],
   "source": [
    "import time\n",
    "\n",
    "for i in range(0, 10):\n",
    "    start_time = time.time()\n",
    "    \n",
    "    # get dictionary of measurements\n",
    "    props = regionprops(labels, intensity_image=image, cache=True,)\n",
    "        \n",
    "    # read out arrays of values\n",
    "    \n",
    "    area = [s.area for s in props]\n",
    "    equivalent_diameter_area = [s.equivalent_diameter_area for s in props]\n",
    "    intensity_max = [s.intensity_max for s in props]\n",
    "    intensity_mean = [s.intensity_mean for s in props]\n",
    "    intensity_min = [s.intensity_min for s in props]\n",
    "    solidity = [s.solidity for s in props]\n",
    "        \n",
    "    print(\"Determining label statistics using scikit-image took \" + str(time.time() - start_time) + \" s\")"
   ]
  },
  {
   "cell_type": "code",
   "execution_count": 6,
   "id": "b4018528-203e-4830-83ea-c60196161b7d",
   "metadata": {},
   "outputs": [
    {
     "name": "stdout",
     "output_type": "stream",
     "text": [
      "Determining label statistics using simpleitk took 18.7564480304718 s\n",
      "Determining label statistics using simpleitk took 15.127636194229126 s\n",
      "Determining label statistics using simpleitk took 14.053942203521729 s\n",
      "Determining label statistics using simpleitk took 14.839532136917114 s\n",
      "Determining label statistics using simpleitk took 17.180129051208496 s\n",
      "Determining label statistics using simpleitk took 14.03712272644043 s\n",
      "Determining label statistics using simpleitk took 15.146540641784668 s\n",
      "Determining label statistics using simpleitk took 14.090569972991943 s\n",
      "Determining label statistics using simpleitk took 14.855315923690796 s\n",
      "Determining label statistics using simpleitk took 14.200660705566406 s\n"
     ]
    }
   ],
   "source": [
    "from napari_simpleitk_image_processing import label_statistics\n",
    "import pandas as pd\n",
    "\n",
    "for i in range(0, 10):\n",
    "    start_time = time.time()\n",
    "    \n",
    "    # get dictionary of measurements\n",
    "    props = label_statistics(image, labels, None, True, True, True, True, True, True)\n",
    "        \n",
    "    # read out arrays of values\n",
    "    content = pd.DataFrame(props)\n",
    "\n",
    "    intensity_max = content['maximum']\n",
    "    intensity_mean = content['mean']\n",
    "    intensity_min = content['minimum']\n",
    "    principal_moments0 = content['principal_moments0']\n",
    "        \n",
    "    print(\"Determining label statistics using simpleitk took \" + str(time.time() - start_time) + \" s\")"
   ]
  },
  {
   "cell_type": "code",
   "execution_count": null,
   "id": "f890bffe-4823-4972-8b5e-f80ab6635781",
   "metadata": {
    "tags": []
   },
   "outputs": [
    {
     "name": "stdout",
     "output_type": "stream",
     "text": [
      "Determining label statistics using cupy took 2686.602778673172 s\n",
      "Determining label statistics using cupy took 2689.4440100193024 s\n",
      "Determining label statistics using cupy took 2688.5562138557434 s\n",
      "Determining label statistics using cupy took 2681.7355148792267 s\n",
      "Determining label statistics using cupy took 2718.772552728653 s\n"
     ]
    }
   ],
   "source": [
    "from napari_cupy_image_processing import measurements\n",
    "\n",
    "for i in range(0, 10):\n",
    "    start_time = time.time()\n",
    "    \n",
    "    # get dictionary of measurements\n",
    "    props = measurements(image, labels)\n",
    "        \n",
    "    # read out arrays of values\n",
    "    content = pd.DataFrame(props)\n",
    "\n",
    "    max_vector = content['maximum']\n",
    "    mean_vector = content['mean']\n",
    "    min_vector = content['minimum']\n",
    "    median = content['median']\n",
    "        \n",
    "    print(\"Determining label statistics using cupy took \" + str(time.time() - start_time) + \" s\")"
   ]
  },
  {
   "cell_type": "code",
   "execution_count": null,
   "id": "12a61160-6ae5-456e-bbda-83154899bc27",
   "metadata": {},
   "outputs": [],
   "source": []
  }
 ],
 "metadata": {
  "kernelspec": {
   "display_name": "Python 3 (ipykernel)",
   "language": "python",
   "name": "python3"
  },
  "language_info": {
   "codemirror_mode": {
    "name": "ipython",
    "version": 3
   },
   "file_extension": ".py",
   "mimetype": "text/x-python",
   "name": "python",
   "nbconvert_exporter": "python",
   "pygments_lexer": "ipython3",
   "version": "3.8.5"
  }
 },
 "nbformat": 4,
 "nbformat_minor": 5
}
