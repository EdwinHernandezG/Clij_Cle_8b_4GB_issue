{
 "cells": [
  {
   "cell_type": "code",
   "execution_count": 1,
   "id": "6b85d547",
   "metadata": {},
   "outputs": [
    {
     "name": "stderr",
     "output_type": "stream",
     "text": [
      "C:\\Users\\Linux\\.conda\\envs\\te_oki\\lib\\site-packages\\pyclesperanto_prototype\\_tier0\\_pycl.py:30: UserWarning: Data type double is not supported by your GPU. Will use float instead.\n",
      "  warnings.warn(\"Data type double is not supported by your GPU. Will use float instead.\")\n"
     ]
    },
    {
     "name": "stdout",
     "output_type": "stream",
     "text": [
      "<Quadro RTX 8000 on Platform: NVIDIA CUDA (1 refs)>\n"
     ]
    },
    {
     "name": "stderr",
     "output_type": "stream",
     "text": [
      "C:\\Users\\Linux\\.conda\\envs\\te_oki\\lib\\site-packages\\pyopencl\\cache.py:514: UserWarning: PyOpenCL compiler caching failed with an exception:\n",
      "[begin exception]\n",
      "Traceback (most recent call last):\n",
      "  File \"C:\\Users\\Linux\\.conda\\envs\\te_oki\\lib\\site-packages\\pyopencl\\cache.py\", line 491, in create_built_program_from_source_cached\n",
      "    _create_built_program_from_source_cached(\n",
      "  File \"C:\\Users\\Linux\\.conda\\envs\\te_oki\\lib\\site-packages\\pyopencl\\cache.py\", line 413, in _create_built_program_from_source_cached\n",
      "    prg.build(options_bytes, [devices[i] for i in to_be_built_indices])\n",
      "  File \"C:\\Users\\Linux\\.conda\\envs\\te_oki\\lib\\site-packages\\pyopencl\\__init__.py\", line 757, in program_build\n",
      "    raise err\n",
      "pyopencl._cl.RuntimeError: clBuildProgram failed: <unknown error -9999> - clBuildProgram failed: <unknown error -9999>\n",
      "\n",
      "Build on <pyopencl.Device 'Quadro RTX 8000' on 'NVIDIA CUDA' at 0x2a285c578c0>:\n",
      "\n",
      "\n",
      "\n",
      "[end exception]\n",
      "  warn(\"PyOpenCL compiler caching failed with an exception:\\n\"\n"
     ]
    },
    {
     "ename": "RuntimeError",
     "evalue": "clBuildProgram failed: <unknown error -9999> - clBuildProgram failed: <unknown error -9999> - clBuildProgram failed: <unknown error -9999>\n\nBuild on <pyopencl.Device 'Quadro RTX 8000' on 'NVIDIA CUDA' at 0x2a285c578c0>:\n\n\n\n(options: -I C:\\Users\\Linux\\.conda\\envs\\te_oki\\lib\\site-packages\\pyopencl\\cl)\n(source saved as C:\\Users\\Linux\\AppData\\Local\\Temp\\tmpdk69ruws.cl)",
     "output_type": "error",
     "traceback": [
      "\u001b[1;31m---------------------------------------------------------------------------\u001b[0m",
      "\u001b[1;31mRuntimeError\u001b[0m                              Traceback (most recent call last)",
      "Input \u001b[1;32mIn [1]\u001b[0m, in \u001b[0;36m<module>\u001b[1;34m\u001b[0m\n\u001b[0;32m     11\u001b[0m radius_z \u001b[38;5;241m=\u001b[39m \u001b[38;5;241m1.0\u001b[39m\n\u001b[0;32m     12\u001b[0m result \u001b[38;5;241m=\u001b[39m cle\u001b[38;5;241m.\u001b[39mmaximum_sphere(image, radius_x\u001b[38;5;241m=\u001b[39mradius_x, radius_y\u001b[38;5;241m=\u001b[39mradius_y, radius_z\u001b[38;5;241m=\u001b[39mradius_z)\n\u001b[1;32m---> 14\u001b[0m \u001b[43mcle\u001b[49m\u001b[38;5;241;43m.\u001b[39;49m\u001b[43mimshow\u001b[49m\u001b[43m(\u001b[49m\u001b[43mresult\u001b[49m\u001b[43m)\u001b[49m\n",
      "File \u001b[1;32m~\\.conda\\envs\\te_oki\\lib\\site-packages\\pyclesperanto_prototype\\_tier9\\_imshow.py:8\u001b[0m, in \u001b[0;36mimshow\u001b[1;34m(image, title, labels, min_display_intensity, max_display_intensity, color_map, plot, colorbar)\u001b[0m\n\u001b[0;32m      5\u001b[0m \u001b[38;5;28;01mfrom\u001b[39;00m \u001b[38;5;21;01m.\u001b[39;00m\u001b[38;5;21;01m.\u001b[39;00m\u001b[38;5;21;01m_tier1\u001b[39;00m \u001b[38;5;28;01mimport\u001b[39;00m maximum_z_projection\n\u001b[0;32m      7\u001b[0m \u001b[38;5;28;01mif\u001b[39;00m \u001b[38;5;28mlen\u001b[39m(image\u001b[38;5;241m.\u001b[39mshape) \u001b[38;5;241m==\u001b[39m \u001b[38;5;241m3\u001b[39m:\n\u001b[1;32m----> 8\u001b[0m     image \u001b[38;5;241m=\u001b[39m \u001b[43mmaximum_z_projection\u001b[49m\u001b[43m(\u001b[49m\u001b[43mimage\u001b[49m\u001b[43m)\u001b[49m\n\u001b[0;32m     10\u001b[0m image \u001b[38;5;241m=\u001b[39m pull(image)\n\u001b[0;32m     12\u001b[0m cmap \u001b[38;5;241m=\u001b[39m color_map\n",
      "File \u001b[1;32m~\\.conda\\envs\\te_oki\\lib\\site-packages\\pyclesperanto_prototype\\_tier0\\_plugin_function.py:71\u001b[0m, in \u001b[0;36mplugin_function.<locals>.worker_function\u001b[1;34m(*args, **kwargs)\u001b[0m\n\u001b[0;32m     68\u001b[0m         bound\u001b[38;5;241m.\u001b[39marguments[key] \u001b[38;5;241m=\u001b[39m output_creator(\u001b[38;5;241m*\u001b[39mbound\u001b[38;5;241m.\u001b[39margs[:\u001b[38;5;28mlen\u001b[39m(sig\u001b[38;5;241m.\u001b[39mparameters)])\n\u001b[0;32m     70\u001b[0m \u001b[38;5;66;03m# call the decorated function\u001b[39;00m\n\u001b[1;32m---> 71\u001b[0m \u001b[38;5;28;01mreturn\u001b[39;00m function(\u001b[38;5;241m*\u001b[39mbound\u001b[38;5;241m.\u001b[39margs, \u001b[38;5;241m*\u001b[39m\u001b[38;5;241m*\u001b[39mbound\u001b[38;5;241m.\u001b[39mkwargs)\n",
      "File \u001b[1;32m~\\.conda\\envs\\te_oki\\lib\\site-packages\\pyclesperanto_prototype\\_tier1\\_maximum_z_projection.py:35\u001b[0m, in \u001b[0;36mmaximum_z_projection\u001b[1;34m(source, destination_max)\u001b[0m\n\u001b[0;32m      8\u001b[0m \u001b[38;5;124;03m\"\"\"Determines the maximum intensity projection of an image along Z. \u001b[39;00m\n\u001b[0;32m      9\u001b[0m \u001b[38;5;124;03m\u001b[39;00m\n\u001b[0;32m     10\u001b[0m \u001b[38;5;124;03mParameters\u001b[39;00m\n\u001b[1;32m   (...)\u001b[0m\n\u001b[0;32m     26\u001b[0m \u001b[38;5;124;03m.. [1] https://clij.github.io/clij2-docs/reference_maximumZProjection\u001b[39;00m\n\u001b[0;32m     27\u001b[0m \u001b[38;5;124;03m\"\"\"\u001b[39;00m\n\u001b[0;32m     30\u001b[0m parameters \u001b[38;5;241m=\u001b[39m {\n\u001b[0;32m     31\u001b[0m     \u001b[38;5;124m\"\u001b[39m\u001b[38;5;124mdst_max\u001b[39m\u001b[38;5;124m\"\u001b[39m:destination_max,\n\u001b[0;32m     32\u001b[0m     \u001b[38;5;124m\"\u001b[39m\u001b[38;5;124msrc\u001b[39m\u001b[38;5;124m\"\u001b[39m:source,\n\u001b[0;32m     33\u001b[0m }\n\u001b[1;32m---> 35\u001b[0m \u001b[43mexecute\u001b[49m\u001b[43m(\u001b[49m\u001b[38;5;18;43m__file__\u001b[39;49m\u001b[43m,\u001b[49m\u001b[43m \u001b[49m\u001b[38;5;124;43m'\u001b[39;49m\u001b[38;5;124;43m../clij-opencl-kernels/kernels/maximum_z_projection_x.cl\u001b[39;49m\u001b[38;5;124;43m'\u001b[39;49m\u001b[43m,\u001b[49m\u001b[43m \u001b[49m\u001b[38;5;124;43m'\u001b[39;49m\u001b[38;5;124;43mmaximum_z_projection\u001b[39;49m\u001b[38;5;124;43m'\u001b[39;49m\u001b[43m,\u001b[49m\u001b[43m \u001b[49m\u001b[43mdestination_max\u001b[49m\u001b[38;5;241;43m.\u001b[39;49m\u001b[43mshape\u001b[49m\u001b[43m,\u001b[49m\u001b[43m \u001b[49m\u001b[43mparameters\u001b[49m\u001b[43m)\u001b[49m\n\u001b[0;32m     37\u001b[0m \u001b[38;5;28;01mreturn\u001b[39;00m destination_max\n",
      "File \u001b[1;32m~\\.conda\\envs\\te_oki\\lib\\site-packages\\pyclesperanto_prototype\\_tier0\\_execute.py:3\u001b[0m, in \u001b[0;36mexecute\u001b[1;34m(anchor, opencl_kernel_filename, kernel_name, global_size, parameters, prog, constants, image_size_independent_kernel_compilation, device)\u001b[0m\n\u001b[0;32m      2\u001b[0m \u001b[38;5;28;01mdef\u001b[39;00m \u001b[38;5;21mexecute\u001b[39m(anchor, opencl_kernel_filename, kernel_name, global_size, parameters, prog \u001b[38;5;241m=\u001b[39m \u001b[38;5;28;01mNone\u001b[39;00m, constants \u001b[38;5;241m=\u001b[39m \u001b[38;5;28;01mNone\u001b[39;00m, image_size_independent_kernel_compilation : \u001b[38;5;28mbool\u001b[39m \u001b[38;5;241m=\u001b[39m \u001b[38;5;28;01mNone\u001b[39;00m, device \u001b[38;5;241m=\u001b[39m \u001b[38;5;28;01mNone\u001b[39;00m):\n\u001b[1;32m----> 3\u001b[0m     \u001b[38;5;28;01mreturn\u001b[39;00m \u001b[43mBackend\u001b[49m\u001b[38;5;241;43m.\u001b[39;49m\u001b[43mget_instance\u001b[49m\u001b[43m(\u001b[49m\u001b[43m)\u001b[49m\u001b[38;5;241;43m.\u001b[39;49m\u001b[43mget\u001b[49m\u001b[43m(\u001b[49m\u001b[43m)\u001b[49m\u001b[38;5;241;43m.\u001b[39;49m\u001b[43mexecute\u001b[49m\u001b[43m(\u001b[49m\u001b[43manchor\u001b[49m\u001b[43m,\u001b[49m\u001b[43m \u001b[49m\u001b[43mopencl_kernel_filename\u001b[49m\u001b[43m,\u001b[49m\u001b[43m \u001b[49m\u001b[43mkernel_name\u001b[49m\u001b[43m,\u001b[49m\u001b[43m \u001b[49m\u001b[43mglobal_size\u001b[49m\u001b[43m,\u001b[49m\u001b[43m \u001b[49m\u001b[43mparameters\u001b[49m\u001b[43m,\u001b[49m\u001b[43m \u001b[49m\u001b[43mprog\u001b[49m\u001b[43m,\u001b[49m\u001b[43m \u001b[49m\u001b[43mconstants\u001b[49m\u001b[43m,\u001b[49m\u001b[43m \u001b[49m\u001b[43mimage_size_independent_kernel_compilation\u001b[49m\u001b[43m,\u001b[49m\u001b[43m \u001b[49m\u001b[43mdevice\u001b[49m\u001b[43m)\u001b[49m\n",
      "File \u001b[1;32m~\\.conda\\envs\\te_oki\\lib\\site-packages\\pyclesperanto_prototype\\_tier0\\_opencl_backend.py:32\u001b[0m, in \u001b[0;36mOpenCLBackend.execute\u001b[1;34m(self, anchor, opencl_kernel_filename, kernel_name, global_size, parameters, prog, constants, image_size_independent_kernel_compilation, device)\u001b[0m\n\u001b[0;32m     31\u001b[0m \u001b[38;5;28;01mdef\u001b[39;00m \u001b[38;5;21mexecute\u001b[39m(\u001b[38;5;28mself\u001b[39m, anchor, opencl_kernel_filename, kernel_name, global_size, parameters, prog \u001b[38;5;241m=\u001b[39m \u001b[38;5;28;01mNone\u001b[39;00m, constants \u001b[38;5;241m=\u001b[39m \u001b[38;5;28;01mNone\u001b[39;00m, image_size_independent_kernel_compilation : \u001b[38;5;28mbool\u001b[39m \u001b[38;5;241m=\u001b[39m \u001b[38;5;28;01mNone\u001b[39;00m, device \u001b[38;5;241m=\u001b[39m \u001b[38;5;28;01mNone\u001b[39;00m):\n\u001b[1;32m---> 32\u001b[0m     \u001b[38;5;28;01mreturn\u001b[39;00m \u001b[43mexecute\u001b[49m\u001b[43m(\u001b[49m\u001b[43manchor\u001b[49m\u001b[43m,\u001b[49m\u001b[43m \u001b[49m\u001b[43mopencl_kernel_filename\u001b[49m\u001b[43m,\u001b[49m\u001b[43m \u001b[49m\u001b[43mkernel_name\u001b[49m\u001b[43m,\u001b[49m\u001b[43m \u001b[49m\u001b[43mglobal_size\u001b[49m\u001b[43m,\u001b[49m\u001b[43m \u001b[49m\u001b[43mparameters\u001b[49m\u001b[43m,\u001b[49m\u001b[43m \u001b[49m\u001b[43mprog\u001b[49m\u001b[43m,\u001b[49m\u001b[43m \u001b[49m\u001b[43mconstants\u001b[49m\u001b[43m,\u001b[49m\u001b[43m \u001b[49m\u001b[43mimage_size_independent_kernel_compilation\u001b[49m\u001b[43m,\u001b[49m\u001b[43m \u001b[49m\u001b[43mdevice\u001b[49m\u001b[43m)\u001b[49m\n",
      "File \u001b[1;32m~\\.conda\\envs\\te_oki\\lib\\site-packages\\pyclesperanto_prototype\\_tier0\\_opencl_execute.py:311\u001b[0m, in \u001b[0;36mexecute\u001b[1;34m(anchor, opencl_kernel_filename, kernel_name, global_size, parameters, prog, constants, image_size_independent_kernel_compilation, device)\u001b[0m\n\u001b[0;32m    305\u001b[0m     \u001b[38;5;28;01melse\u001b[39;00m:\n\u001b[0;32m    306\u001b[0m         warnings\u001b[38;5;241m.\u001b[39mwarn(\n\u001b[0;32m    307\u001b[0m             \u001b[38;5;124m\"\u001b[39m\u001b[38;5;124mThe `device` parameter of pyclesperanto_prototype.execute is deprecated since 0.11.0. It will be removed in 0.12.0.\u001b[39m\u001b[38;5;124m\"\u001b[39m,\n\u001b[0;32m    308\u001b[0m             \u001b[38;5;167;01mDeprecationWarning\u001b[39;00m\n\u001b[0;32m    309\u001b[0m         )\n\u001b[1;32m--> 311\u001b[0m     prog \u001b[38;5;241m=\u001b[39m \u001b[43mdevice\u001b[49m\u001b[38;5;241;43m.\u001b[39;49m\u001b[43mprogram_from_source\u001b[49m\u001b[43m(\u001b[49m\u001b[38;5;124;43m\"\u001b[39;49m\u001b[38;5;130;43;01m\\n\u001b[39;49;00m\u001b[38;5;124;43m\"\u001b[39;49m\u001b[38;5;241;43m.\u001b[39;49m\u001b[43mjoin\u001b[49m\u001b[43m(\u001b[49m\u001b[43mdefines\u001b[49m\u001b[43m)\u001b[49m\u001b[43m)\u001b[49m\n\u001b[0;32m    312\u001b[0m     \u001b[38;5;66;03m#prog = OCLProgram.from_source(\"\\n\".join(defines))\u001b[39;00m\n\u001b[0;32m    313\u001b[0m \n\u001b[0;32m    314\u001b[0m     \u001b[38;5;66;03m# Todo: the order of the arguments matters; fix that\u001b[39;00m\n\u001b[0;32m    315\u001b[0m     \u001b[38;5;66;03m# print(\"Compilation \" + opencl_kernel_filename + \" took \" + str((time.time() - time_stamp) * 1000) + \" ms\")\u001b[39;00m\n\u001b[0;32m    316\u001b[0m \u001b[38;5;28;01melse\u001b[39;00m:\n\u001b[0;32m    317\u001b[0m     warnings\u001b[38;5;241m.\u001b[39mwarn(\n\u001b[0;32m    318\u001b[0m         \u001b[38;5;124m\"\u001b[39m\u001b[38;5;124mThe `prog` parameter of pyclesperanto_prototype.execute is deprecated since 0.11.0. It will be removed in 0.12.0.\u001b[39m\u001b[38;5;124m\"\u001b[39m,\n\u001b[0;32m    319\u001b[0m         \u001b[38;5;167;01mDeprecationWarning\u001b[39;00m\n\u001b[0;32m    320\u001b[0m     )\n",
      "File \u001b[1;32m~\\.conda\\envs\\te_oki\\lib\\site-packages\\pyclesperanto_prototype\\_tier0\\_device.py:26\u001b[0m, in \u001b[0;36mDevice.program_from_source\u001b[1;34m(self, source)\u001b[0m\n\u001b[0;32m     23\u001b[0m \u001b[38;5;129m@lru_cache\u001b[39m(maxsize\u001b[38;5;241m=\u001b[39m\u001b[38;5;241m128\u001b[39m)\n\u001b[0;32m     24\u001b[0m \u001b[38;5;28;01mdef\u001b[39;00m \u001b[38;5;21mprogram_from_source\u001b[39m(\u001b[38;5;28mself\u001b[39m, source):\n\u001b[0;32m     25\u001b[0m     \u001b[38;5;28;01mfrom\u001b[39;00m \u001b[38;5;21;01m.\u001b[39;00m\u001b[38;5;21;01m_program\u001b[39;00m \u001b[38;5;28;01mimport\u001b[39;00m OCLProgram\n\u001b[1;32m---> 26\u001b[0m     \u001b[38;5;28;01mreturn\u001b[39;00m \u001b[43mOCLProgram\u001b[49m\u001b[43m(\u001b[49m\u001b[43msrc_str\u001b[49m\u001b[38;5;241;43m=\u001b[39;49m\u001b[43msource\u001b[49m\u001b[43m,\u001b[49m\u001b[43m \u001b[49m\u001b[43mdev\u001b[49m\u001b[38;5;241;43m=\u001b[39;49m\u001b[38;5;28;43mself\u001b[39;49m\u001b[43m)\u001b[49m\n",
      "File \u001b[1;32m~\\.conda\\envs\\te_oki\\lib\\site-packages\\pyclesperanto_prototype\\_tier0\\_program.py:28\u001b[0m, in \u001b[0;36mOCLProgram.__init__\u001b[1;34m(self, file_name, src_str, build_options, dev)\u001b[0m\n\u001b[0;32m     26\u001b[0m \u001b[38;5;28mself\u001b[39m\u001b[38;5;241m.\u001b[39m_kernel_dict \u001b[38;5;241m=\u001b[39m {}\n\u001b[0;32m     27\u001b[0m \u001b[38;5;28msuper\u001b[39m()\u001b[38;5;241m.\u001b[39m\u001b[38;5;21m__init__\u001b[39m(\u001b[38;5;28mself\u001b[39m\u001b[38;5;241m.\u001b[39m_dev\u001b[38;5;241m.\u001b[39mcontext, src_str)\n\u001b[1;32m---> 28\u001b[0m \u001b[38;5;28;43mself\u001b[39;49m\u001b[38;5;241;43m.\u001b[39;49m\u001b[43mbuild\u001b[49m\u001b[43m(\u001b[49m\u001b[43moptions\u001b[49m\u001b[38;5;241;43m=\u001b[39;49m\u001b[43mbuild_options\u001b[49m\u001b[43m)\u001b[49m\n",
      "File \u001b[1;32m~\\.conda\\envs\\te_oki\\lib\\site-packages\\pyopencl\\__init__.py:536\u001b[0m, in \u001b[0;36mProgram.build\u001b[1;34m(self, options, devices, cache_dir)\u001b[0m\n\u001b[0;32m    532\u001b[0m \u001b[38;5;28;01melse\u001b[39;00m:\n\u001b[0;32m    533\u001b[0m     \u001b[38;5;66;03m# cached\u001b[39;00m\n\u001b[0;32m    535\u001b[0m     \u001b[38;5;28;01mfrom\u001b[39;00m \u001b[38;5;21;01mpyopencl\u001b[39;00m\u001b[38;5;21;01m.\u001b[39;00m\u001b[38;5;21;01mcache\u001b[39;00m \u001b[38;5;28;01mimport\u001b[39;00m create_built_program_from_source_cached\n\u001b[1;32m--> 536\u001b[0m     \u001b[38;5;28mself\u001b[39m\u001b[38;5;241m.\u001b[39m_prg, was_cached \u001b[38;5;241m=\u001b[39m \u001b[38;5;28;43mself\u001b[39;49m\u001b[38;5;241;43m.\u001b[39;49m\u001b[43m_build_and_catch_errors\u001b[49m\u001b[43m(\u001b[49m\n\u001b[0;32m    537\u001b[0m \u001b[43m            \u001b[49m\u001b[38;5;28;43;01mlambda\u001b[39;49;00m\u001b[43m:\u001b[49m\u001b[43m \u001b[49m\u001b[43mcreate_built_program_from_source_cached\u001b[49m\u001b[43m(\u001b[49m\n\u001b[0;32m    538\u001b[0m \u001b[43m                \u001b[49m\u001b[38;5;28;43mself\u001b[39;49m\u001b[38;5;241;43m.\u001b[39;49m\u001b[43m_context\u001b[49m\u001b[43m,\u001b[49m\u001b[43m \u001b[49m\u001b[38;5;28;43mself\u001b[39;49m\u001b[38;5;241;43m.\u001b[39;49m\u001b[43m_source\u001b[49m\u001b[43m,\u001b[49m\u001b[43m \u001b[49m\u001b[43moptions_bytes\u001b[49m\u001b[43m,\u001b[49m\u001b[43m \u001b[49m\u001b[43mdevices\u001b[49m\u001b[43m,\u001b[49m\n\u001b[0;32m    539\u001b[0m \u001b[43m                \u001b[49m\u001b[43mcache_dir\u001b[49m\u001b[38;5;241;43m=\u001b[39;49m\u001b[43mcache_dir\u001b[49m\u001b[43m,\u001b[49m\u001b[43m \u001b[49m\u001b[43minclude_path\u001b[49m\u001b[38;5;241;43m=\u001b[39;49m\u001b[43minclude_path\u001b[49m\u001b[43m)\u001b[49m\u001b[43m,\u001b[49m\n\u001b[0;32m    540\u001b[0m \u001b[43m            \u001b[49m\u001b[43moptions_bytes\u001b[49m\u001b[38;5;241;43m=\u001b[39;49m\u001b[43moptions_bytes\u001b[49m\u001b[43m,\u001b[49m\u001b[43m \u001b[49m\u001b[43msource\u001b[49m\u001b[38;5;241;43m=\u001b[39;49m\u001b[38;5;28;43mself\u001b[39;49m\u001b[38;5;241;43m.\u001b[39;49m\u001b[43m_source\u001b[49m\u001b[43m)\u001b[49m\n\u001b[0;32m    542\u001b[0m     \u001b[38;5;28;01mif\u001b[39;00m was_cached:\n\u001b[0;32m    543\u001b[0m         build_descr \u001b[38;5;241m=\u001b[39m \u001b[38;5;124m\"\u001b[39m\u001b[38;5;124mcache retrieval\u001b[39m\u001b[38;5;124m\"\u001b[39m\n",
      "File \u001b[1;32m~\\.conda\\envs\\te_oki\\lib\\site-packages\\pyopencl\\__init__.py:584\u001b[0m, in \u001b[0;36mProgram._build_and_catch_errors\u001b[1;34m(self, build_func, options_bytes, source)\u001b[0m\n\u001b[0;32m    576\u001b[0m     err \u001b[38;5;241m=\u001b[39m _cl\u001b[38;5;241m.\u001b[39mRuntimeError(\n\u001b[0;32m    577\u001b[0m             _cl\u001b[38;5;241m.\u001b[39m_ErrorRecord(\n\u001b[0;32m    578\u001b[0m                 msg\u001b[38;5;241m=\u001b[39mmsg,\n\u001b[0;32m    579\u001b[0m                 code\u001b[38;5;241m=\u001b[39mcode,\n\u001b[0;32m    580\u001b[0m                 routine\u001b[38;5;241m=\u001b[39mroutine))\n\u001b[0;32m    582\u001b[0m \u001b[38;5;66;03m# Python 3.2 outputs the whole list of currently active exceptions\u001b[39;00m\n\u001b[0;32m    583\u001b[0m \u001b[38;5;66;03m# This serves to remove one (redundant) level from that nesting.\u001b[39;00m\n\u001b[1;32m--> 584\u001b[0m \u001b[38;5;28;01mraise\u001b[39;00m err\n",
      "\u001b[1;31mRuntimeError\u001b[0m: clBuildProgram failed: <unknown error -9999> - clBuildProgram failed: <unknown error -9999> - clBuildProgram failed: <unknown error -9999>\n\nBuild on <pyopencl.Device 'Quadro RTX 8000' on 'NVIDIA CUDA' at 0x2a285c578c0>:\n\n\n\n(options: -I C:\\Users\\Linux\\.conda\\envs\\te_oki\\lib\\site-packages\\pyopencl\\cl)\n(source saved as C:\\Users\\Linux\\AppData\\Local\\Temp\\tmpdk69ruws.cl)"
     ]
    }
   ],
   "source": [
    "import pyclesperanto_prototype as cle\n",
    "import numpy as np\n",
    "\n",
    "device = cle.select_device(\"Quadro RTX 8000\")\n",
    "print(cle.get_device())\n",
    "\n",
    "image = cle.create((55, 5917, 8694), dtype=np.uint8)\n",
    "\n",
    "radius_x = 1.0\n",
    "radius_y = 1.0\n",
    "radius_z = 1.0\n",
    "result = cle.maximum_sphere(image, radius_x=radius_x, radius_y=radius_y, radius_z=radius_z)\n",
    "\n",
    "cle.imshow(result)"
   ]
  },
  {
   "cell_type": "code",
   "execution_count": null,
   "id": "dc26f680",
   "metadata": {},
   "outputs": [],
   "source": []
  }
 ],
 "metadata": {
  "kernelspec": {
   "display_name": "Python 3 (ipykernel)",
   "language": "python",
   "name": "python3"
  },
  "language_info": {
   "codemirror_mode": {
    "name": "ipython",
    "version": 3
   },
   "file_extension": ".py",
   "mimetype": "text/x-python",
   "name": "python",
   "nbconvert_exporter": "python",
   "pygments_lexer": "ipython3",
   "version": "3.9.0"
  }
 },
 "nbformat": 4,
 "nbformat_minor": 5
}
