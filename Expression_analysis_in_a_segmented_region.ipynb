{
 "cells": [
  {
   "cell_type": "markdown",
   "id": "1ad2de5a-ddde-4a73-b77e-f44129f1949c",
   "metadata": {},
   "source": [
    "# Análisis de la co-expresión de Hopx en células Sox2 positivas en la zona granular del Hipocampo"
   ]
  },
  {
   "cell_type": "markdown",
   "id": "44143c9d-e821-4242-9082-dd722849d814",
   "metadata": {},
   "source": [
    "Vamos a importar las librerias necesarias para ejecutar el script"
   ]
  },
  {
   "cell_type": "code",
   "execution_count": 1,
   "id": "c8a782d6-c642-4fa4-87b5-20e0c8fb047b",
   "metadata": {
    "tags": []
   },
   "outputs": [],
   "source": [
    "import os\n",
    "import time\n",
    "from skimage.io import imread\n",
    "from skimage import filters, measure, morphology\n",
    "import pandas as pd \n",
    "import numpy as np\n",
    "import pyclesperanto_prototype as cle\n",
    "from apoc import ObjectSegmenter\n",
    "import tifffile as tf\n",
    "from ipywidgets import interact"
   ]
  },
  {
   "cell_type": "markdown",
   "id": "dde8b565-d9c2-4179-824c-468db26ee3e6",
   "metadata": {},
   "source": [
    "El código utiliza la GPU del ordenador para realizar diferentes operaciones, por lo que vamos a ver que GPU's están disponibles para trabajar en le ordenador"
   ]
  },
  {
   "cell_type": "code",
   "execution_count": 2,
   "id": "b37598db-3dbb-4864-bac0-33cdce1e69c3",
   "metadata": {
    "tags": []
   },
   "outputs": [
    {
     "name": "stdout",
     "output_type": "stream",
     "text": [
      "Available GPU OpenCL devices:['Intel(R) Iris(R) Xe Graphics', 'NVIDIA GeForce RTX 3080 Ti Laptop GPU', 'Microsoft Basic Render Driver', 'Intel(R) Iris(R) Xe Graphics', 'NVIDIA GeForce RTX 3080 Ti Laptop GPU']\n"
     ]
    }
   ],
   "source": [
    "gpu_devices = cle.available_device_names(dev_type=\"gpu\")\n",
    "print(\"Available GPU OpenCL devices:\" + str(gpu_devices))"
   ]
  },
  {
   "cell_type": "code",
   "execution_count": 3,
   "id": "17593a5e-7bc8-41ea-8d9f-6635ba679b64",
   "metadata": {
    "tags": []
   },
   "outputs": [
    {
     "name": "stdout",
     "output_type": "stream",
     "text": [
      "Using OpenCL device NVIDIA GeForce RTX 3080 Ti Laptop GPU\n"
     ]
    }
   ],
   "source": [
    "cle.select_device(\"RTX\") #Select desired GPU 'NVIDIA', 'Intel', 'RTX', etc.\n",
    "print(\"Using OpenCL device \" + cle.get_device().name)"
   ]
  },
  {
   "cell_type": "markdown",
   "id": "1bdf12d9-8bda-4c25-b1c5-9bbec9c04ba8",
   "metadata": {},
   "source": [
    "Para procesar imágenes en serie es necesario fijar nuestro folder de trabajo, cada uno de los canales debe estar en una carpeta separada y cada imagen debe tener el mismo nombre"
   ]
  },
  {
   "cell_type": "code",
   "execution_count": 4,
   "id": "c1e3daff-af79-4983-aa41-29b66bf47fea",
   "metadata": {
    "tags": []
   },
   "outputs": [],
   "source": [
    "# Definir el folder con imágenes a analizar y donde vamos a guardar los resultados\n",
    "dapi_dir = r\"F:\\CI2A\\Image Analysis\\Aixa\\Pilar\\dapi\"\n",
    "Hopx_dir = r\"F:\\CI2A\\Image Analysis\\Aixa\\Pilar\\Hopx\"\n",
    "Sox2_dir = r\"F:\\CI2A\\Image Analysis\\Aixa\\Pilar\\Sox2\"\n",
    "labels_dir = r\"F:\\CI2A\\Image Analysis\\Aixa\\Pilar\\labels\" #ML generated segmentation, you can erase this folder after\n",
    "granular_dir = r\"F:\\CI2A\\Image Analysis\\Aixa\\Pilar\\granular\" #Biggest label selection for Granular zone segmentation\n",
    "tables_dir = r\"F:\\CI2A\\Image Analysis\\Aixa\\Pilar\\tables\" #Tables with granular eegion volume and\n",
    "mask_Hopx_dir = r\"F:\\CI2A\\Image Analysis\\Aixa\\Pilar\\mHopx\" #Segmented Hopx signal in the granular zone\n",
    "mask_Sox2_dir = r\"F:\\CI2A\\Image Analysis\\Aixa\\Pilar\\mSox2\" #Segmented Sox2 signal in the granular zone\n",
    "lbsox_dir = r\"F:\\CI2A\\Image Analysis\\Aixa\\Pilar\\Sox2lb\" #Sox2 segmented cell on the granular zone"
   ]
  },
  {
   "cell_type": "markdown",
   "id": "d4927952-f5aa-42a2-937f-201e6bf19ab0",
   "metadata": {},
   "source": [
    "Vamos a definir una función para generar las etiquetas para extraer las zona basadas en el pixel classifier que hemos generado en el paso anterior"
   ]
  },
  {
   "cell_type": "code",
   "execution_count": 5,
   "id": "d61f577f-1351-44fd-8667-a6939e2a712a",
   "metadata": {
    "tags": []
   },
   "outputs": [],
   "source": [
    "segmenter = ObjectSegmenter(opencl_filename='F:/CI2A/Image Analysis/Aixa/Analysis_Pipelines/ObjectSegmenter.cl')"
   ]
  },
  {
   "cell_type": "markdown",
   "id": "b79896ba-b344-4e1f-acd4-bf0018e9bca8",
   "metadata": {},
   "source": [
    "Ahora vamos a procesar cada imagen con el pixel classifier"
   ]
  },
  {
   "cell_type": "code",
   "execution_count": 6,
   "id": "7f922cb4-0152-4331-aa4d-fcb6e23322da",
   "metadata": {
    "tags": []
   },
   "outputs": [
    {
     "name": "stdout",
     "output_type": "stream",
     "text": [
      "Processing Reunion Edwin 160223.lif - M155 40x s1 Hopx Sox2.tif took 4.205355882644653 s.\n",
      "Processing Reunion Edwin 160223.lif - M155 40x s2 Hopx Sox2.tif took 4.860569715499878 s.\n",
      "Processing Reunion Edwin 160223.lif - M155 40x s3 Hopx Sox2.tif took 3.7841708660125732 s.\n",
      "Processing Reunion Edwin 160223.lif - M156 40x s1 Hopx Sox2.tif took 4.591080188751221 s.\n",
      "Processing Reunion Edwin 160223.lif - M156 40x s2 Hopx Sox2.tif took 5.77959132194519 s.\n",
      "Processing Reunion Edwin 160223.lif - M156 40x s3 Hopx Sox2.tif took 4.830617427825928 s.\n"
     ]
    }
   ],
   "source": [
    "for filename in os.listdir(dapi_dir):\n",
    "    start_time = time.time()\n",
    "    image1 = imread(dapi_dir +'/'+ filename)\n",
    "    labels = segmenter.predict(image=image1)\n",
    "    tf.imwrite(labels_dir +'/'+ filename, labels)\n",
    "    print ('Processing '+ filename + ' took '+ str(time.time() - start_time) + \" s.\")"
   ]
  },
  {
   "cell_type": "markdown",
   "id": "c9d75550-035b-4147-8fdd-b6f3c60e5979",
   "metadata": {},
   "source": [
    "Es hora de analizar las características de cada una de las segmentaciones que hemos generado y quedarnos solamente con la región más grande que en este caso debe corresponder a la zona granular."
   ]
  },
  {
   "cell_type": "code",
   "execution_count": 7,
   "id": "93e9f6de-8a2f-4010-a1a3-8c838a8fec9e",
   "metadata": {
    "tags": []
   },
   "outputs": [
    {
     "name": "stdout",
     "output_type": "stream",
     "text": [
      "processing Reunion Edwin 160223.lif - M155 40x s1 Hopx Sox2.tif took 0.747600793838501 s.\n",
      "processing Reunion Edwin 160223.lif - M155 40x s2 Hopx Sox2.tif took 0.6282100677490234 s.\n",
      "processing Reunion Edwin 160223.lif - M155 40x s3 Hopx Sox2.tif took 0.4554128646850586 s.\n",
      "processing Reunion Edwin 160223.lif - M156 40x s1 Hopx Sox2.tif took 0.7720732688903809 s.\n",
      "processing Reunion Edwin 160223.lif - M156 40x s2 Hopx Sox2.tif took 0.7734658718109131 s.\n",
      "processing Reunion Edwin 160223.lif - M156 40x s3 Hopx Sox2.tif took 1.0242133140563965 s.\n"
     ]
    }
   ],
   "source": [
    "for filename1 in os.listdir(labels_dir):\n",
    "    \n",
    "    start_time1 = time.time()\n",
    "    \n",
    "    label1 = imread(labels_dir +'/'+ filename1).astype(np.uint16)\n",
    "    \n",
    "    # Labels poperties measurements\n",
    "    table = measure.regionprops(label1)\n",
    "    \n",
    "    # Find biggest label\n",
    "    size = max([i.area for i in table])\n",
    "    \n",
    "    # Keep biggest label and save it in a new file\n",
    "    biggest = morphology.remove_small_objects(label1, min_size=size-1)\n",
    "    bina = cle.threshold_otsu(biggest) #Just to re-assign label value to 1\n",
    "    tf.imwrite(\n",
    "        granular_dir +'/'+ filename1,\n",
    "        bina,\n",
    "        imagej=True,\n",
    "        resolution=(1./0.3787879, 1./0.3787879),\n",
    "        metadata={\n",
    "            'spacing': 1.9998568,\n",
    "            'unit': 'micron',\n",
    "            'axes': 'ZYX'})\n",
    "    \n",
    "    print ('processing '+ filename1 + ' took '+ str(time.time() - start_time1) + ' s.')"
   ]
  },
  {
   "cell_type": "markdown",
   "id": "dcaf46cb-f630-425f-a5b4-170c7f32189b",
   "metadata": {
    "tags": []
   },
   "source": [
    "Ahora podemos extraer la información del tamaño de la zona granular"
   ]
  },
  {
   "cell_type": "code",
   "execution_count": 8,
   "id": "a69e3cf0-c4d0-41ad-aa5d-5d6cb2bda328",
   "metadata": {},
   "outputs": [
    {
     "name": "stdout",
     "output_type": "stream",
     "text": [
      "Granular region in label 1 Reunion Edwin 160223.lif - M155 40x s1 Hopx Sox2.tif has volume 1909632.7581446916 µm3\n",
      "Granular region in label 1 Reunion Edwin 160223.lif - M155 40x s2 Hopx Sox2.tif has volume 1677114.3724265555 µm3\n",
      "Granular region in label 1 Reunion Edwin 160223.lif - M155 40x s3 Hopx Sox2.tif has volume 1242356.3706100406 µm3\n",
      "Granular region in label 1 Reunion Edwin 160223.lif - M156 40x s1 Hopx Sox2.tif has volume 2016928.8062238314 µm3\n",
      "Granular region in label 1 Reunion Edwin 160223.lif - M156 40x s2 Hopx Sox2.tif has volume 1860524.9857250853 µm3\n",
      "Granular region in label 1 Reunion Edwin 160223.lif - M156 40x s3 Hopx Sox2.tif has volume 2245851.8337419964 µm3\n"
     ]
    }
   ],
   "source": [
    "for mask in os.listdir(granular_dir):\n",
    "       \n",
    "    start_time2 = time.time()\n",
    "    \n",
    "    grn = imread(granular_dir+'/'+mask)\n",
    "    short_name = os.path.splitext(mask)\n",
    "    \n",
    "    #Get Granular Zone Volume, don't worry that is the area name, area for 2D images, volume for 3D, is a maching cubes calculation\n",
    "    properties = ['label', 'area']\n",
    "    \n",
    "    table = measure.regionprops(grn, spacing = [1.9998568, 0.3787879, 0.3787879])\n",
    "    props = pd.DataFrame(measure.regionprops_table(grn, properties=properties, spacing = [1.9998568, 0.3787879, 0.3787879])).set_index('label')\n",
    "    props.to_csv(tables_dir+'/'+str(short_name[0])+'.csv')\n",
    "\n",
    "    print(f'Granular region in label {table[0].label} '+ mask + f' has volume {table[0].area} µm3')           "
   ]
  },
  {
   "cell_type": "markdown",
   "id": "b0b5642d-805e-4954-8600-8497b0b619f8",
   "metadata": {},
   "source": [
    "Ahora vamos a extraer los pixeles originales de las áreas que hemos definido como zona granular para los marcajes de Sox2 Y Hopx, para ello vamos a definir una función que nos genere los canales segmentados"
   ]
  },
  {
   "cell_type": "code",
   "execution_count": 9,
   "id": "39ac8b8b-76dc-451b-bd01-8c235878c1f1",
   "metadata": {
    "tags": []
   },
   "outputs": [],
   "source": [
    "def extract_raw_masked_pixels(raw, mask):\n",
    "    output_data = np.empty_like(raw)\n",
    "    output_data = np.where(mask==1, raw, 0)\n",
    "    output_data = output_data.astype(raw.dtype)\n",
    "    return output_data\n",
    "    pass       "
   ]
  },
  {
   "cell_type": "markdown",
   "id": "5fa3690b-6e3f-463b-ae01-c6647a1bc9d2",
   "metadata": {},
   "source": [
    "Ahora podemos procesar los archivos que contienen el marcaje de Hopx"
   ]
  },
  {
   "cell_type": "code",
   "execution_count": 10,
   "id": "079fd9ae-f662-4ff2-bd6e-8b584d7f00e9",
   "metadata": {},
   "outputs": [
    {
     "name": "stdout",
     "output_type": "stream",
     "text": [
      "Generating Hopx mask of Reunion Edwin 160223.lif - M155 40x s1 Hopx Sox2.tif took 0.25430750846862793 s.\n",
      "Generating Hopx mask of Reunion Edwin 160223.lif - M155 40x s2 Hopx Sox2.tif took 0.21921133995056152 s.\n",
      "Generating Hopx mask of Reunion Edwin 160223.lif - M155 40x s3 Hopx Sox2.tif took 0.16323041915893555 s.\n",
      "Generating Hopx mask of Reunion Edwin 160223.lif - M156 40x s1 Hopx Sox2.tif took 0.30541014671325684 s.\n",
      "Generating Hopx mask of Reunion Edwin 160223.lif - M156 40x s2 Hopx Sox2.tif took 0.25832128524780273 s.\n",
      "Generating Hopx mask of Reunion Edwin 160223.lif - M156 40x s3 Hopx Sox2.tif took 0.22112154960632324 s.\n"
     ]
    }
   ],
   "source": [
    "for img_name in os.listdir(Hopx_dir):\n",
    "    \n",
    "    start_time3 = time.time()\n",
    "        \n",
    "    img1_path = os.path.join(Hopx_dir, img_name)\n",
    "    \n",
    "    if img_name in os.listdir(granular_dir):\n",
    "               \n",
    "        img2_path = os.path.join(granular_dir, img_name)\n",
    "        \n",
    "        img1 = imread(img1_path)\n",
    "        img2 = imread(img2_path)\n",
    "        \n",
    "        result = extract_raw_masked_pixels(img1, img2)\n",
    "        \n",
    "        tf.imwrite(mask_Hopx_dir+'/'+img_name, result)\n",
    "        \n",
    "        print ('Generating Hopx mask of '+ img_name + ' took '+ str(time.time() - start_time3) + ' s.')"
   ]
  },
  {
   "cell_type": "markdown",
   "id": "cbf34c6d-c63a-4f5a-b42d-0a02e1660b31",
   "metadata": {},
   "source": [
    "Ahora podemos procesar los archivos que contienen el marcaje de Sox2"
   ]
  },
  {
   "cell_type": "code",
   "execution_count": 11,
   "id": "b3da9d62-8d7c-4590-8f0d-fdc49d84afed",
   "metadata": {
    "tags": []
   },
   "outputs": [
    {
     "name": "stdout",
     "output_type": "stream",
     "text": [
      "Generating Sox2 mask of Reunion Edwin 160223.lif - M155 40x s1 Hopx Sox2.tif took 0.4927699565887451 s.\n",
      "Generating Sox2 mask of Reunion Edwin 160223.lif - M155 40x s2 Hopx Sox2.tif took 0.720858097076416 s.\n",
      "Generating Sox2 mask of Reunion Edwin 160223.lif - M155 40x s3 Hopx Sox2.tif took 0.8856179714202881 s.\n",
      "Generating Sox2 mask of Reunion Edwin 160223.lif - M156 40x s1 Hopx Sox2.tif took 1.1334795951843262 s.\n",
      "Generating Sox2 mask of Reunion Edwin 160223.lif - M156 40x s2 Hopx Sox2.tif took 1.3602778911590576 s.\n",
      "Generating Sox2 mask of Reunion Edwin 160223.lif - M156 40x s3 Hopx Sox2.tif took 1.663968563079834 s.\n"
     ]
    }
   ],
   "source": [
    "for img_name in os.listdir(Sox2_dir):\n",
    "    \n",
    "    start_time4 = time.time()\n",
    "    \n",
    "    img1_path = os.path.join(Sox2_dir, img_name)\n",
    "    \n",
    "    if img_name in os.listdir(granular_dir):\n",
    "               \n",
    "        img2_path = os.path.join(granular_dir, img_name)\n",
    "        \n",
    "        img1 = imread(img1_path)\n",
    "        img2 = imread(img2_path)\n",
    "        \n",
    "        result = extract_raw_masked_pixels(img1, img2)\n",
    "        \n",
    "        tf.imwrite(mask_Sox2_dir+'/'+img_name, result)\n",
    "        \n",
    "        print ('Generating Sox2 mask of '+ img_name + ' took '+ str(time.time() - start_time3) + ' s.')"
   ]
  },
  {
   "cell_type": "markdown",
   "id": "6422e52e-20f4-48ff-b2c9-6d3b2294ba16",
   "metadata": {},
   "source": [
    "Ahora podemos evaluar el número de células Sox2 positivas en la región granular usando el método de <a href=\"https://haesleinhuepf.github.io/BioImageAnalysisNotebooks/20_image_segmentation/11_voronoi_otsu_labeling.html\" target=\"_blank\">Voronoi-Otsu</a> para crear las etiquetas"
   ]
  },
  {
   "cell_type": "code",
   "execution_count": 12,
   "id": "f9b5d095-20e2-47df-a87e-b36d2c9d9b15",
   "metadata": {
    "tags": []
   },
   "outputs": [
    {
     "name": "stdout",
     "output_type": "stream",
     "text": [
      "Generating Sox2 labels in Reunion Edwin 160223.lif - M155 40x s1 Hopx Sox2.tif took 1.2361047267913818 s.\n",
      "Generating Sox2 labels in Reunion Edwin 160223.lif - M155 40x s2 Hopx Sox2.tif took 0.8965668678283691 s.\n",
      "Generating Sox2 labels in Reunion Edwin 160223.lif - M155 40x s3 Hopx Sox2.tif took 0.6696717739105225 s.\n",
      "Generating Sox2 labels in Reunion Edwin 160223.lif - M156 40x s1 Hopx Sox2.tif took 1.0892281532287598 s.\n",
      "Generating Sox2 labels in Reunion Edwin 160223.lif - M156 40x s2 Hopx Sox2.tif took 0.8867113590240479 s.\n",
      "Generating Sox2 labels in Reunion Edwin 160223.lif - M156 40x s3 Hopx Sox2.tif took 0.9707014560699463 s.\n"
     ]
    }
   ],
   "source": [
    "for mask in os.listdir(mask_Sox2_dir):\n",
    "    start_time5 = time.time()\n",
    "    \n",
    "    masked_sox2_path = os.path.join(mask_Sox2_dir, mask)\n",
    "    sox2_mask = imread(masked_sox2_path)\n",
    "    \n",
    "    short_name = os.path.splitext(mask)\n",
    "        \n",
    "    lb_sox2 = cle.voronoi_otsu_labeling(sox2_mask, None, 2.0, 1.0)\n",
    "    tf.imwrite(lbsox_dir+'/'+mask, lb_sox2)\n",
    "    \n",
    "    print ('Generating Sox2 labels in '+ mask + ' took '+ str(time.time() - start_time5) + ' s.')\n",
    "    \n",
    "    "
   ]
  },
  {
   "cell_type": "markdown",
   "id": "05026db1-29f3-4751-81c7-207e4edec857",
   "metadata": {},
   "source": [
    "Por último vamos a medir la expresión de Hopx en las células Sox2 positivas que hemos detectado anteriormente para ver cuantas co-expresan ambos marcadores."
   ]
  },
  {
   "cell_type": "code",
   "execution_count": 13,
   "id": "409dff5f-9da4-43ae-8efa-527999a4350b",
   "metadata": {
    "tags": []
   },
   "outputs": [
    {
     "name": "stdout",
     "output_type": "stream",
     "text": [
      "Measuring Hopx in Sox2 labels for Reunion Edwin 160223.lif - M155 40x s1 Hopx Sox2.tif took 0.12575411796569824 s.\n",
      "Measuring Hopx in Sox2 labels for Reunion Edwin 160223.lif - M155 40x s2 Hopx Sox2.tif took 0.11164712905883789 s.\n",
      "Measuring Hopx in Sox2 labels for Reunion Edwin 160223.lif - M155 40x s3 Hopx Sox2.tif took 0.06367158889770508 s.\n",
      "Measuring Hopx in Sox2 labels for Reunion Edwin 160223.lif - M156 40x s1 Hopx Sox2.tif took 0.13716411590576172 s.\n",
      "Measuring Hopx in Sox2 labels for Reunion Edwin 160223.lif - M156 40x s2 Hopx Sox2.tif took 0.11769247055053711 s.\n",
      "Measuring Hopx in Sox2 labels for Reunion Edwin 160223.lif - M156 40x s3 Hopx Sox2.tif took 0.13219833374023438 s.\n"
     ]
    }
   ],
   "source": [
    "for image in os.listdir(mask_Hopx_dir):\n",
    "    start_time6 = time.time()\n",
    "    \n",
    "    masked_Hopx_path = os.path.join(mask_Hopx_dir, image)\n",
    "    lb_sox2_path = os.path.join(lbsox_dir, image)\n",
    "    \n",
    "    short_name = os.path.splitext(image)\n",
    "    \n",
    "    Hopx_image = imread(masked_Hopx_path)\n",
    "    Sox2_label = imread(lb_sox2_path).astype(np.uint16)\n",
    "    \n",
    "    properties1 = ['label', 'area', 'mean_intensity']\n",
    "    \n",
    "    table2 = pd.DataFrame(measure.regionprops_table(Sox2_label, intensity_image=Hopx_image,spacing = [1.9998568, 0.3787879, 0.3787879], properties=properties1)).set_index('label')\n",
    "    \n",
    "    table2.to_csv(tables_dir+'/'+str(short_name[0])+'_intensity.csv')\n",
    "    \n",
    "    print ('Measuring Hopx in Sox2 labels for '+ image + ' took '+ str(time.time() - start_time6) + ' s.')"
   ]
  },
  {
   "cell_type": "markdown",
   "id": "5dd1fa89-853b-44e8-be78-87d12fa63657",
   "metadata": {},
   "source": [
    "Ahora ya podeís procesar los resultados como queráis. Una opción rápida para calcular el número de células positiva es evaluar la intesidad media de la expresión de Hopx en las células Sox2 positivas"
   ]
  },
  {
   "cell_type": "code",
   "execution_count": 14,
   "id": "0b73a82d-ec9c-4042-8fbf-af65441793de",
   "metadata": {
    "tags": []
   },
   "outputs": [
    {
     "data": {
      "text/plain": [
       "Text(0.5, 0, 'Mean Intensity (A.U.)')"
      ]
     },
     "execution_count": 14,
     "metadata": {},
     "output_type": "execute_result"
    },
    {
     "data": {
      "image/png": "[encoded data removed]",
      "text/plain": [
       "<Figure size 2000x500 with 2 Axes>"
      ]
     },
     "metadata": {},
     "output_type": "display_data"
    }
   ],
   "source": [
    "import matplotlib.pyplot as plt\n",
    "\n",
    "data = pd.read_csv(r\"F:\\CI2A\\Image Analysis\\Aixa\\Pilar\\tables\\Reunion Edwin 160223.lif - M155 40x s1 Hopx Sox2_intensity.csv\")\n",
    "mean_vector = data['mean_intensity']\n",
    "vol_vector = data['area']\n",
    "\n",
    "fig, axes = plt.subplots(1, 2, figsize=(20,5))\n",
    "ax = axes.ravel()\n",
    "\n",
    "ax[0].hist(vol_vector, bins=20)\n",
    "ax[0].set_ylabel('Number of cells')\n",
    "ax[0].set_xlabel('Area (um3)')\n",
    "\n",
    "ax[1].hist(mean_vector, bins=20)\n",
    "ax[1].set_ylabel('Number of cells')\n",
    "ax[1].set_xlabel('Mean Intensity (A.U.)')"
   ]
  },
  {
   "cell_type": "markdown",
   "id": "760802c1-c0f9-411a-bd4d-a2f8d67aefbf",
   "metadata": {},
   "source": [
    "En este caso se puede observar que existen dos poblaciones de células basadas en la intensidad que se pueden separar a partir de 100 unidades, "
   ]
  }
 ],
 "metadata": {
  "kernelspec": {
   "display_name": "Python 3 (ipykernel)",
   "language": "python",
   "name": "python3"
  },
  "language_info": {
   "codemirror_mode": {
    "name": "ipython",
    "version": 3
   },
   "file_extension": ".py",
   "mimetype": "text/x-python",
   "name": "python",
   "nbconvert_exporter": "python",
   "pygments_lexer": "ipython3",
   "version": "3.9.16"
  }
 },
 "nbformat": 4,
 "nbformat_minor": 5
}
