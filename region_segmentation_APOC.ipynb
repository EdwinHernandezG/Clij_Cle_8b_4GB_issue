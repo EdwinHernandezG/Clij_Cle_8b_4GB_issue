{
 "cells": [
  {
   "cell_type": "markdown",
   "id": "9213d5d1-d964-43d4-aace-4c4a28734f67",
   "metadata": {},
   "source": [
    "Para proceder a utilizar este cuaderno es necesario instalar una serie de requisitos y librerias para que funcione correctamente.\n",
    "\n",
    "Requisitos del sistema:\n",
    "\n",
    "- Ordenador con tarjeta gráfica Nvidia con capacidad de procesamiento CUDA (Cualquier Nvidia de los últimos 6 años debería ser suficiente)\n",
    "- Memoria RAM suficiente para que las imagenes originales y su procesado intermedio sea almacenado (Al menos tres veces el tamaño de la imagen original)\n",
    "- Los drivers de la tarjeta gráfica deben estar actualizados\n",
    "\n",
    "Instalación\n",
    "\n",
    "1. Instalar Miniconda (https://docs.conda.io/en/latest/miniconda.html)\n",
    "2. Abrir Anaconda Promt\n",
    "3. Instalar mamba en el ambiente base\n",
    "> conda install mamba -c conda-forge\n",
    "4. Crear el ambiente usando mamba\n",
    "> mamba create --name devbio-napari-env python=3.9 devbio-napari -c conda-forge -c pytorch\n",
    "5. Activar el ambiente\n",
    "> mamba activate devbio-napari-env\n",
    "6. Iniciar Napari con el comando\n",
    "> naparia\n",
    "\n",
    "Si es la primera vez que se lanza, es recomendable revisar que todos los plugins estén correctamente actualizados en el menú Plugins > Install / Uninstall plugins...\n"
   ]
  },
  {
   "cell_type": "markdown",
   "id": "7ec7a737-107c-4b8c-b873-ff1176767b5b",
   "metadata": {},
   "source": [
    "El propósito de este cuaderno es crar un pipeline para el análisis de imágenes obtenidas a través de  microscopía confocal.\n",
    "El deseo del usuario es segmentar un área limitada por la capa granulada del hipocampo, en este caso se propone crear un pixel classifier utilizando APOC.\n",
    "Para empezar, arrastramos la imagen con el canal del DAPI a la ventana de Napari para abrirla.\n",
    "\n",
    "![alt text](Docs/napari.png \"Napari\")\n",
    "\n",
    "Activamos APOC en el menú Tools > Segmentation / labeling > Object Segmentation (APOC)\n",
    "\n",
    "Una vez allí tendremos que generar una máscara para entrenar el Pixel Classifier:\n",
    "\n",
    "1. Crear una nueva capa de etiquetas\n",
    "2. Seleccionamos la herramienta de pincel\n",
    "3. Dibujamos las zonas que queremos segmentar\n",
    "4. Creamos una nueva etiqueta\n",
    "5. Dibujamos las zonas que no queremos segmentar\n",
    "6. Seleccionamos la ubicación para salval el Pixel Classifier\n",
    "7. Ajustamos las características del Classifier, poner que tenemos solo una etiqueta, hemos puesto los sigmas de 3 pixeles también para dilatar un poco las etiquetas que se generan.\n",
    "8. Aumentamos la profundidad de los árboles de decisión\n",
    "9. Pulsamos \"Train\" para entrenar nuestro clasificador\n",
    "\n",
    "![alt text](Docs/APOC.png \"APOC\")\n",
    "\n",
    "\n",
    "Una vez entrenado el clasificador podemos usarlo en varias imágenes o llamandoló directamente desde Python usando\n",
    "> from apoc import ObjectSegmenter\n",
    "\n",
    "> segmenter = ObjectSegmenter(opencl_filename='C:/Users/elful/Documents/Analysis_Pipelines/ObjectSegmenter.cl')\n",
    "\n",
    "> result = segmenter.predict(image=image0)\n"
   ]
  }
 ],
 "metadata": {
  "jupytext": {
   "cell_metadata_filter": "-all",
   "main_language": "python",
   "notebook_metadata_filter": "-all"
  },
  "kernelspec": {
   "display_name": "Python 3 (ipykernel)",
   "language": "python",
   "name": "python3"
  },
  "language_info": {
   "codemirror_mode": {
    "name": "ipython",
    "version": 3
   },
   "file_extension": ".py",
   "mimetype": "text/x-python",
   "name": "python",
   "nbconvert_exporter": "python",
   "pygments_lexer": "ipython3",
   "version": "3.9.16"
  }
 },
 "nbformat": 4,
 "nbformat_minor": 5
}
